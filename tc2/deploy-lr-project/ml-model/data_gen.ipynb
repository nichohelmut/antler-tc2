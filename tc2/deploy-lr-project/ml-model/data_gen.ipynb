{
 "cells": [
  {
   "cell_type": "code",
   "execution_count": 1,
   "id": "ce6baa85",
   "metadata": {},
   "outputs": [],
   "source": [
    "import pandas as pd\n",
    "import numpy as np\n",
    "from sklearn.model_selection import KFold\n",
    "from xgboost import XGBRegressor"
   ]
  },
  {
   "cell_type": "code",
   "execution_count": null,
   "id": "c3224593",
   "metadata": {},
   "outputs": [],
   "source": [
    "df = pd.read_csv('cloth_prices.csv', sep=';')"
   ]
  },
  {
   "cell_type": "code",
   "execution_count": null,
   "id": "0024b92e",
   "metadata": {},
   "outputs": [],
   "source": [
    "df"
   ]
  },
  {
   "cell_type": "code",
   "execution_count": null,
   "id": "8e4cb908",
   "metadata": {},
   "outputs": [],
   "source": [
    "Y = df['Price']  # dependent variable\n",
    "X = df[['Item', 'Brand', 'Usage', 'Size']]  # independent variable"
   ]
  },
  {
   "cell_type": "code",
   "execution_count": null,
   "id": "305ea36f",
   "metadata": {
    "scrolled": true
   },
   "outputs": [],
   "source": [
    "kf = KFold(n_splits=4, random_state=0, shuffle=True)\n",
    "kf.get_n_splits(X)"
   ]
  },
  {
   "cell_type": "code",
   "execution_count": null,
   "id": "a69690b2",
   "metadata": {},
   "outputs": [],
   "source": [
    "X_num = np.array(X)\n",
    "y_num = np.array(Y)"
   ]
  },
  {
   "cell_type": "code",
   "execution_count": null,
   "id": "e7ed8d44",
   "metadata": {},
   "outputs": [],
   "source": [
    "for train_index, test_index in kf.split(X):\n",
    "    print(\"TRAIN:\", train_index, \"TEST:\", test_index)\n",
    "    X_train, X_test = X_num[train_index], X_num[test_index]\n",
    "    y_train, y_test = y_num[train_index], y_num[test_index]"
   ]
  },
  {
   "cell_type": "code",
   "execution_count": null,
   "id": "c2dcbcc7",
   "metadata": {},
   "outputs": [],
   "source": [
    "model = XGBRegressor(n_estimators=1000, max_depth=7, eta=0.1, subsample=0.7, colsample_bytree=0.8)"
   ]
  },
  {
   "cell_type": "code",
   "execution_count": null,
   "id": "1fafcdaa",
   "metadata": {},
   "outputs": [],
   "source": [
    "model.fit(X_train, y_train, verbose=True)"
   ]
  },
  {
   "cell_type": "code",
   "execution_count": null,
   "id": "c9da8624",
   "metadata": {},
   "outputs": [],
   "source": []
  },
  {
   "cell_type": "markdown",
   "id": "8fd5cb83",
   "metadata": {},
   "source": [
    "## Fake Data Generator"
   ]
  },
  {
   "cell_type": "code",
   "execution_count": 2,
   "id": "ef8c0629",
   "metadata": {},
   "outputs": [],
   "source": [
    "df_look = pd.read_csv('dataset/thelook.csv')"
   ]
  },
  {
   "cell_type": "code",
   "execution_count": 3,
   "id": "3f1f17e7",
   "metadata": {},
   "outputs": [
    {
     "data": {
      "text/html": [
       "<div>\n",
       "<style scoped>\n",
       "    .dataframe tbody tr th:only-of-type {\n",
       "        vertical-align: middle;\n",
       "    }\n",
       "\n",
       "    .dataframe tbody tr th {\n",
       "        vertical-align: top;\n",
       "    }\n",
       "\n",
       "    .dataframe thead th {\n",
       "        text-align: right;\n",
       "    }\n",
       "</style>\n",
       "<table border=\"1\" class=\"dataframe\">\n",
       "  <thead>\n",
       "    <tr style=\"text-align: right;\">\n",
       "      <th></th>\n",
       "      <th>id</th>\n",
       "      <th>product_id</th>\n",
       "      <th>created_at</th>\n",
       "      <th>sold_at</th>\n",
       "      <th>cost</th>\n",
       "      <th>product_category</th>\n",
       "      <th>product_name</th>\n",
       "      <th>product_brand</th>\n",
       "      <th>product_retail_price</th>\n",
       "      <th>product_department</th>\n",
       "      <th>product_sku</th>\n",
       "      <th>product_distribution_center_id</th>\n",
       "      <th>days_storage</th>\n",
       "    </tr>\n",
       "  </thead>\n",
       "  <tbody>\n",
       "    <tr>\n",
       "      <th>0</th>\n",
       "      <td>72384</td>\n",
       "      <td>13844</td>\n",
       "      <td>2021-05-04 00:18:09 UTC</td>\n",
       "      <td>2021-05-08 00:56:09 UTC</td>\n",
       "      <td>2.76804</td>\n",
       "      <td>Accessories</td>\n",
       "      <td>(ONE) 1 Satin Headband</td>\n",
       "      <td>Funny Girl Designs</td>\n",
       "      <td>6.99</td>\n",
       "      <td>Women</td>\n",
       "      <td>2A3E953A5E3D81E67945BCE5519F84C8</td>\n",
       "      <td>7</td>\n",
       "      <td>4</td>\n",
       "    </tr>\n",
       "    <tr>\n",
       "      <th>1</th>\n",
       "      <td>36195</td>\n",
       "      <td>14086</td>\n",
       "      <td>2021-05-07 20:48:50 UTC</td>\n",
       "      <td>2021-06-04 11:23:50 UTC</td>\n",
       "      <td>2.24625</td>\n",
       "      <td>Accessories</td>\n",
       "      <td>(One) CHEER Rhinestone Studded Stretch Headband</td>\n",
       "      <td>Funny Girl Designs</td>\n",
       "      <td>5.99</td>\n",
       "      <td>Women</td>\n",
       "      <td>8EFA9015A4EF4632A954E820ECA834AD</td>\n",
       "      <td>7</td>\n",
       "      <td>27</td>\n",
       "    </tr>\n",
       "    <tr>\n",
       "      <th>2</th>\n",
       "      <td>64993</td>\n",
       "      <td>14086</td>\n",
       "      <td>2020-05-04 20:24:01 UTC</td>\n",
       "      <td>2020-05-13 12:20:01 UTC</td>\n",
       "      <td>2.24625</td>\n",
       "      <td>Accessories</td>\n",
       "      <td>(One) CHEER Rhinestone Studded Stretch Headband</td>\n",
       "      <td>Funny Girl Designs</td>\n",
       "      <td>5.99</td>\n",
       "      <td>Women</td>\n",
       "      <td>8EFA9015A4EF4632A954E820ECA834AD</td>\n",
       "      <td>7</td>\n",
       "      <td>8</td>\n",
       "    </tr>\n",
       "  </tbody>\n",
       "</table>\n",
       "</div>"
      ],
      "text/plain": [
       "      id  product_id               created_at                  sold_at  \\\n",
       "0  72384       13844  2021-05-04 00:18:09 UTC  2021-05-08 00:56:09 UTC   \n",
       "1  36195       14086  2021-05-07 20:48:50 UTC  2021-06-04 11:23:50 UTC   \n",
       "2  64993       14086  2020-05-04 20:24:01 UTC  2020-05-13 12:20:01 UTC   \n",
       "\n",
       "      cost product_category                                     product_name  \\\n",
       "0  2.76804      Accessories                           (ONE) 1 Satin Headband   \n",
       "1  2.24625      Accessories  (One) CHEER Rhinestone Studded Stretch Headband   \n",
       "2  2.24625      Accessories  (One) CHEER Rhinestone Studded Stretch Headband   \n",
       "\n",
       "        product_brand  product_retail_price product_department  \\\n",
       "0  Funny Girl Designs                  6.99              Women   \n",
       "1  Funny Girl Designs                  5.99              Women   \n",
       "2  Funny Girl Designs                  5.99              Women   \n",
       "\n",
       "                        product_sku  product_distribution_center_id  \\\n",
       "0  2A3E953A5E3D81E67945BCE5519F84C8                               7   \n",
       "1  8EFA9015A4EF4632A954E820ECA834AD                               7   \n",
       "2  8EFA9015A4EF4632A954E820ECA834AD                               7   \n",
       "\n",
       "   days_storage  \n",
       "0             4  \n",
       "1            27  \n",
       "2             8  "
      ]
     },
     "execution_count": 3,
     "metadata": {},
     "output_type": "execute_result"
    }
   ],
   "source": [
    "df_look.head(3)"
   ]
  },
  {
   "cell_type": "code",
   "execution_count": 4,
   "id": "624358c2",
   "metadata": {},
   "outputs": [],
   "source": [
    "df_look.sort_values(['days_storage'], ascending=[True],inplace=True)"
   ]
  },
  {
   "cell_type": "code",
   "execution_count": 5,
   "id": "232b44bc",
   "metadata": {},
   "outputs": [],
   "source": [
    "p1=[0.4, 0.3, 0.15, 0.1, 0.05]\n",
    "p2=[0.35, .35, 0.15, 0.1, 0.05]\n",
    "p3=[0.2, 0.3, 0.25, 0.2, 0.05]\n",
    "p4=[0.1, 0.3, 0.35, 0.15, 0.1]\n",
    "p5=[0.05, 0.1, 0.15, 0.3, 0.4]"
   ]
  },
  {
   "cell_type": "code",
   "execution_count": 6,
   "id": "1b555a45",
   "metadata": {
    "scrolled": true
   },
   "outputs": [
    {
     "data": {
      "text/plain": [
       "5450"
      ]
     },
     "execution_count": 6,
     "metadata": {},
     "output_type": "execute_result"
    }
   ],
   "source": [
    "int(np.round(len(df_look['cost'])/5,0))"
   ]
  },
  {
   "cell_type": "code",
   "execution_count": 7,
   "id": "d684f679",
   "metadata": {},
   "outputs": [],
   "source": [
    "df_look_1=df_look.iloc[:5450,:]"
   ]
  },
  {
   "cell_type": "code",
   "execution_count": 8,
   "id": "03b0c7da",
   "metadata": {},
   "outputs": [
    {
     "data": {
      "text/plain": [
       "20696    29.357639\n",
       "19351     5.314680\n",
       "21715    13.053000\n",
       "21702    87.674400\n",
       "19353     6.059550\n",
       "           ...    \n",
       "3118     47.389861\n",
       "3124     18.885637\n",
       "186       8.009935\n",
       "27127    15.921150\n",
       "1021     37.910000\n",
       "Name: cost, Length: 5450, dtype: float64"
      ]
     },
     "execution_count": 8,
     "metadata": {},
     "output_type": "execute_result"
    }
   ],
   "source": [
    "df_look_1=df_look_1['cost'].apply(\n",
    "    lambda x: x * np.random.choice(np.arange(.9, 1.1, 0.05), p=p1)\n",
    ")\n",
    "df_look_1"
   ]
  },
  {
   "cell_type": "code",
   "execution_count": 9,
   "id": "198bc05c",
   "metadata": {},
   "outputs": [
    {
     "data": {
      "text/plain": [
       "184       4.442580\n",
       "24878    17.271000\n",
       "4099     68.888000\n",
       "24881    13.291200\n",
       "3013     21.143011\n",
       "           ...    \n",
       "812       6.247934\n",
       "8294     48.479930\n",
       "835      20.493000\n",
       "22440    18.488998\n",
       "17634    27.423495\n",
       "Name: cost, Length: 5450, dtype: float64"
      ]
     },
     "execution_count": 9,
     "metadata": {},
     "output_type": "execute_result"
    }
   ],
   "source": [
    "df_look_2=df_look.iloc[5450:10900,:]\n",
    "df_look_2=df_look_2['cost'].apply(\n",
    "    lambda x: x * np.random.choice(np.arange(.9, 1.1, 0.05), p=p2)\n",
    ")\n",
    "df_look_2"
   ]
  },
  {
   "cell_type": "code",
   "execution_count": 10,
   "id": "8e38ed92",
   "metadata": {},
   "outputs": [
    {
     "data": {
      "text/plain": [
       "6082     28.964000\n",
       "3266     72.758400\n",
       "15283    37.762500\n",
       "9322     29.799000\n",
       "21815    12.584403\n",
       "           ...    \n",
       "1808     18.544570\n",
       "24838    52.455000\n",
       "25855    27.266400\n",
       "5446     24.264900\n",
       "22989    15.024707\n",
       "Name: cost, Length: 5450, dtype: float64"
      ]
     },
     "execution_count": 10,
     "metadata": {},
     "output_type": "execute_result"
    }
   ],
   "source": [
    "df_look_3=df_look.iloc[10900:16350,:]\n",
    "df_look_3=df_look_3['cost'].apply(\n",
    "    lambda x: x * np.random.choice(np.arange(.9, 1.1, 0.05), p=p3)\n",
    ")\n",
    "df_look_3"
   ]
  },
  {
   "cell_type": "code",
   "execution_count": 11,
   "id": "8b8225a5",
   "metadata": {},
   "outputs": [
    {
     "data": {
      "text/plain": [
       "25571    30.450000\n",
       "24482    20.649200\n",
       "1874      9.829080\n",
       "2189      2.130000\n",
       "22913    10.784970\n",
       "           ...    \n",
       "8918     21.074731\n",
       "11786    22.193850\n",
       "381       1.187028\n",
       "8906     19.123831\n",
       "12593    54.977012\n",
       "Name: cost, Length: 5450, dtype: float64"
      ]
     },
     "execution_count": 11,
     "metadata": {},
     "output_type": "execute_result"
    }
   ],
   "source": [
    "df_look_4=df_look.iloc[16350:21800,:]\n",
    "df_look_4=df_look_4['cost'].apply(\n",
    "    lambda x: x * np.random.choice(np.arange(.9, 1.1, 0.05), p=p4)\n",
    ")\n",
    "df_look_4"
   ]
  },
  {
   "cell_type": "code",
   "execution_count": 12,
   "id": "65b12a69",
   "metadata": {
    "scrolled": true
   },
   "outputs": [
    {
     "data": {
      "text/plain": [
       "12647     9.229462\n",
       "8652     65.243145\n",
       "8841     28.028000\n",
       "20429    40.366531\n",
       "8894     68.468400\n",
       "           ...    \n",
       "26236    24.597878\n",
       "18564    28.946026\n",
       "9308     91.945000\n",
       "13013    15.495404\n",
       "3865     20.722591\n",
       "Name: cost, Length: 5450, dtype: float64"
      ]
     },
     "execution_count": 12,
     "metadata": {},
     "output_type": "execute_result"
    }
   ],
   "source": [
    "df_look_5=df_look.iloc[21800:27250,:]\n",
    "df_look_5=df_look_5['cost'].apply(\n",
    "    lambda x: x * np.random.choice(np.arange(.9, 1.1, 0.05), p=p5)\n",
    ")\n",
    "df_look_5"
   ]
  },
  {
   "cell_type": "code",
   "execution_count": 13,
   "id": "d893854d",
   "metadata": {},
   "outputs": [],
   "source": [
    "df_look_cost = list(df_look_1) + list(df_look_2)+ list(df_look_3)+list(df_look_4)+list(df_look_5)"
   ]
  },
  {
   "cell_type": "code",
   "execution_count": 14,
   "id": "13fcd01a",
   "metadata": {},
   "outputs": [],
   "source": [
    "df_look=df_look.iloc[:-1,:]"
   ]
  },
  {
   "cell_type": "code",
   "execution_count": 15,
   "id": "ebb54f82",
   "metadata": {},
   "outputs": [],
   "source": [
    "df_look['cost']=df_look_cost"
   ]
  },
  {
   "cell_type": "code",
   "execution_count": 16,
   "id": "2193a008",
   "metadata": {},
   "outputs": [
    {
     "data": {
      "text/plain": [
       "22002    8\n",
       "8712     7\n",
       "19805    7\n",
       "10701    7\n",
       "13631    6\n",
       "        ..\n",
       "6040     1\n",
       "25164    1\n",
       "11155    1\n",
       "20199    1\n",
       "21899    1\n",
       "Name: product_id, Length: 17744, dtype: int64"
      ]
     },
     "execution_count": 16,
     "metadata": {},
     "output_type": "execute_result"
    }
   ],
   "source": [
    "df_look['product_id'].value_counts()"
   ]
  },
  {
   "cell_type": "code",
   "execution_count": 17,
   "id": "9b7da7b0",
   "metadata": {},
   "outputs": [],
   "source": [
    "df_priced=df_look.copy()"
   ]
  },
  {
   "cell_type": "code",
   "execution_count": 18,
   "id": "5800eef6",
   "metadata": {},
   "outputs": [
    {
     "data": {
      "text/plain": [
       "Allegra K         868\n",
       "Calvin Klein      471\n",
       "Carhartt          376\n",
       "Volcom            289\n",
       "Tommy Hilfiger    284\n",
       "                 ... \n",
       "Konflict            1\n",
       "Bobi                1\n",
       "Monologue           1\n",
       "Motony              1\n",
       "Heather             1\n",
       "Name: product_brand, Length: 2324, dtype: int64"
      ]
     },
     "execution_count": 18,
     "metadata": {},
     "output_type": "execute_result"
    }
   ],
   "source": [
    "df_priced['product_brand'].value_counts()"
   ]
  },
  {
   "cell_type": "code",
   "execution_count": 19,
   "id": "1e571892",
   "metadata": {},
   "outputs": [
    {
     "data": {
      "text/plain": [
       "2905     Allegra K\n",
       "9893     Allegra K\n",
       "2927     Allegra K\n",
       "2944     Allegra K\n",
       "2962     Allegra K\n",
       "           ...    \n",
       "4283     Allegra K\n",
       "15016    Allegra K\n",
       "15008    Allegra K\n",
       "14952    Allegra K\n",
       "14957    Allegra K\n",
       "Name: product_brand, Length: 868, dtype: object"
      ]
     },
     "execution_count": 19,
     "metadata": {},
     "output_type": "execute_result"
    }
   ],
   "source": [
    "df_priced[df_priced['product_brand']==\"Allegra K\"]['product_brand']"
   ]
  },
  {
   "cell_type": "code",
   "execution_count": 20,
   "id": "781cf86a",
   "metadata": {},
   "outputs": [],
   "source": [
    "df_priced.loc[df_priced['product_brand']==\"Allegra K\", \"product_brand\"] = \"Adidas\""
   ]
  },
  {
   "cell_type": "code",
   "execution_count": 21,
   "id": "e0792633",
   "metadata": {},
   "outputs": [],
   "source": [
    "df_priced.loc[df_priced['product_brand']==\"Volcom\", \"product_brand\"] = \"Puma\"\n",
    "df_priced.loc[df_priced['product_brand']==\"Tommy Hilfiger\", \"product_brand\"] = \"Nike\""
   ]
  },
  {
   "cell_type": "code",
   "execution_count": 22,
   "id": "500dfd3b",
   "metadata": {},
   "outputs": [],
   "source": [
    "df_priced['product_sku']='Shoes'"
   ]
  },
  {
   "cell_type": "code",
   "execution_count": 23,
   "id": "fce81600",
   "metadata": {
    "scrolled": true
   },
   "outputs": [
    {
     "name": "stderr",
     "output_type": "stream",
     "text": [
      "/var/folders/vw/5s4wkzhj0hbf60qvln7n6cs80000gn/T/ipykernel_23786/4081827586.py:4: SettingWithCopyWarning: \n",
      "A value is trying to be set on a copy of a slice from a DataFrame\n",
      "\n",
      "See the caveats in the documentation: https://pandas.pydata.org/pandas-docs/stable/user_guide/indexing.html#returning-a-view-versus-a-copy\n",
      "  df_priced['product_category'][i]=random.choice(usage)\n"
     ]
    }
   ],
   "source": [
    "import random\n",
    "usage = ['New', 'Almost New', 'Used', 'Very Used']\n",
    "for i in range(len(df_priced['product_category'])):\n",
    "    df_priced['product_category'][i]=random.choice(usage)"
   ]
  },
  {
   "cell_type": "code",
   "execution_count": 24,
   "id": "989da27f",
   "metadata": {},
   "outputs": [
    {
     "name": "stderr",
     "output_type": "stream",
     "text": [
      "/var/folders/vw/5s4wkzhj0hbf60qvln7n6cs80000gn/T/ipykernel_23786/812683257.py:2: SettingWithCopyWarning: \n",
      "A value is trying to be set on a copy of a slice from a DataFrame\n",
      "\n",
      "See the caveats in the documentation: https://pandas.pydata.org/pandas-docs/stable/user_guide/indexing.html#returning-a-view-versus-a-copy\n",
      "  df_priced['product_retail_price'][i]=int(np.random.choice(np.arange(37, 46, 1)))\n"
     ]
    }
   ],
   "source": [
    "for i in range(len(df_priced['product_category'])):\n",
    "    df_priced['product_retail_price'][i]=int(np.random.choice(np.arange(37, 46, 1)))"
   ]
  },
  {
   "cell_type": "code",
   "execution_count": 25,
   "id": "6c42baf8",
   "metadata": {},
   "outputs": [],
   "source": [
    "df_priced['product_retail_price']=df_priced['product_retail_price'].astype(int)"
   ]
  },
  {
   "cell_type": "code",
   "execution_count": 26,
   "id": "fe2792cd",
   "metadata": {},
   "outputs": [
    {
     "data": {
      "text/html": [
       "<div>\n",
       "<style scoped>\n",
       "    .dataframe tbody tr th:only-of-type {\n",
       "        vertical-align: middle;\n",
       "    }\n",
       "\n",
       "    .dataframe tbody tr th {\n",
       "        vertical-align: top;\n",
       "    }\n",
       "\n",
       "    .dataframe thead th {\n",
       "        text-align: right;\n",
       "    }\n",
       "</style>\n",
       "<table border=\"1\" class=\"dataframe\">\n",
       "  <thead>\n",
       "    <tr style=\"text-align: right;\">\n",
       "      <th></th>\n",
       "      <th>id</th>\n",
       "      <th>product_id</th>\n",
       "      <th>created_at</th>\n",
       "      <th>sold_at</th>\n",
       "      <th>cost</th>\n",
       "      <th>product_category</th>\n",
       "      <th>product_name</th>\n",
       "      <th>product_brand</th>\n",
       "      <th>product_retail_price</th>\n",
       "      <th>product_department</th>\n",
       "      <th>product_sku</th>\n",
       "      <th>product_distribution_center_id</th>\n",
       "      <th>days_storage</th>\n",
       "    </tr>\n",
       "  </thead>\n",
       "  <tbody>\n",
       "    <tr>\n",
       "      <th>20696</th>\n",
       "      <td>390</td>\n",
       "      <td>20184</td>\n",
       "      <td>2021-11-24 08:06:47 UTC</td>\n",
       "      <td>2021-11-25 03:52:47 UTC</td>\n",
       "      <td>29.357639</td>\n",
       "      <td>Very Used</td>\n",
       "      <td>Men's Single Breasted 3 Button Gray Pinstripe ...</td>\n",
       "      <td>Abini</td>\n",
       "      <td>38</td>\n",
       "      <td>Men</td>\n",
       "      <td>Shoes</td>\n",
       "      <td>4</td>\n",
       "      <td>0</td>\n",
       "    </tr>\n",
       "    <tr>\n",
       "      <th>19351</th>\n",
       "      <td>43639</td>\n",
       "      <td>25044</td>\n",
       "      <td>2021-04-01 13:53:31 UTC</td>\n",
       "      <td>2021-04-01 17:33:31 UTC</td>\n",
       "      <td>5.314680</td>\n",
       "      <td>Used</td>\n",
       "      <td>SockGuy Men's Mudflap Girl Socks</td>\n",
       "      <td>SockGuy</td>\n",
       "      <td>41</td>\n",
       "      <td>Men</td>\n",
       "      <td>Shoes</td>\n",
       "      <td>2</td>\n",
       "      <td>0</td>\n",
       "    </tr>\n",
       "    <tr>\n",
       "      <th>21715</th>\n",
       "      <td>67554</td>\n",
       "      <td>19168</td>\n",
       "      <td>2022-01-14 14:18:08 UTC</td>\n",
       "      <td>2022-01-14 15:49:08 UTC</td>\n",
       "      <td>13.053000</td>\n",
       "      <td>New</td>\n",
       "      <td>John Henry Men's Long Sleeve Crew Neck Sweater</td>\n",
       "      <td>John Henry</td>\n",
       "      <td>39</td>\n",
       "      <td>Men</td>\n",
       "      <td>Shoes</td>\n",
       "      <td>3</td>\n",
       "      <td>0</td>\n",
       "    </tr>\n",
       "    <tr>\n",
       "      <th>21702</th>\n",
       "      <td>20047</td>\n",
       "      <td>18802</td>\n",
       "      <td>2021-02-24 00:58:34 UTC</td>\n",
       "      <td>2021-02-24 12:49:34 UTC</td>\n",
       "      <td>87.674400</td>\n",
       "      <td>New</td>\n",
       "      <td>J.C. Rags Men's Reversed Cable Blazer</td>\n",
       "      <td>J.C. Rags</td>\n",
       "      <td>42</td>\n",
       "      <td>Men</td>\n",
       "      <td>Shoes</td>\n",
       "      <td>1</td>\n",
       "      <td>0</td>\n",
       "    </tr>\n",
       "    <tr>\n",
       "      <th>19353</th>\n",
       "      <td>4935</td>\n",
       "      <td>25120</td>\n",
       "      <td>2022-01-15 18:41:17 UTC</td>\n",
       "      <td>2022-01-16 11:16:17 UTC</td>\n",
       "      <td>6.059550</td>\n",
       "      <td>Almost New</td>\n",
       "      <td>SockGuy Men's Unicorn Socks</td>\n",
       "      <td>SockGuy</td>\n",
       "      <td>41</td>\n",
       "      <td>Men</td>\n",
       "      <td>Shoes</td>\n",
       "      <td>2</td>\n",
       "      <td>0</td>\n",
       "    </tr>\n",
       "    <tr>\n",
       "      <th>...</th>\n",
       "      <td>...</td>\n",
       "      <td>...</td>\n",
       "      <td>...</td>\n",
       "      <td>...</td>\n",
       "      <td>...</td>\n",
       "      <td>...</td>\n",
       "      <td>...</td>\n",
       "      <td>...</td>\n",
       "      <td>...</td>\n",
       "      <td>...</td>\n",
       "      <td>...</td>\n",
       "      <td>...</td>\n",
       "      <td>...</td>\n",
       "    </tr>\n",
       "    <tr>\n",
       "      <th>26236</th>\n",
       "      <td>9122</td>\n",
       "      <td>25745</td>\n",
       "      <td>2021-04-15 01:14:50 UTC</td>\n",
       "      <td>2021-06-14 00:17:50 UTC</td>\n",
       "      <td>24.597878</td>\n",
       "      <td>Almost New</td>\n",
       "      <td>Bjorn Borg Men's Double Layer Longs</td>\n",
       "      <td>Bjorn Borg</td>\n",
       "      <td>43</td>\n",
       "      <td>Men</td>\n",
       "      <td>Shoes</td>\n",
       "      <td>9</td>\n",
       "      <td>59</td>\n",
       "    </tr>\n",
       "    <tr>\n",
       "      <th>18564</th>\n",
       "      <td>25871</td>\n",
       "      <td>9980</td>\n",
       "      <td>2019-04-26 13:36:50 UTC</td>\n",
       "      <td>2019-06-25 00:40:50 UTC</td>\n",
       "      <td>28.946026</td>\n",
       "      <td>Used</td>\n",
       "      <td>White 52 Inch Hooded Terry Robe W/double Stitc...</td>\n",
       "      <td>Spa &amp; Resort</td>\n",
       "      <td>42</td>\n",
       "      <td>Women</td>\n",
       "      <td>Shoes</td>\n",
       "      <td>1</td>\n",
       "      <td>59</td>\n",
       "    </tr>\n",
       "    <tr>\n",
       "      <th>9308</th>\n",
       "      <td>58983</td>\n",
       "      <td>21106</td>\n",
       "      <td>2021-01-07 12:03:52 UTC</td>\n",
       "      <td>2021-03-08 08:17:52 UTC</td>\n",
       "      <td>91.945000</td>\n",
       "      <td>Almost New</td>\n",
       "      <td>Paige Premium Denim Men's Stone Canyon Boot Cu...</td>\n",
       "      <td>PAIGE</td>\n",
       "      <td>44</td>\n",
       "      <td>Men</td>\n",
       "      <td>Shoes</td>\n",
       "      <td>7</td>\n",
       "      <td>59</td>\n",
       "    </tr>\n",
       "    <tr>\n",
       "      <th>13013</th>\n",
       "      <td>30630</td>\n",
       "      <td>21899</td>\n",
       "      <td>2021-07-31 15:42:54 UTC</td>\n",
       "      <td>2021-09-29 03:44:54 UTC</td>\n",
       "      <td>15.495404</td>\n",
       "      <td>Almost New</td>\n",
       "      <td>Ed Garments Men's Flat Front Pant. 2577</td>\n",
       "      <td>Ed Garments</td>\n",
       "      <td>39</td>\n",
       "      <td>Men</td>\n",
       "      <td>Shoes</td>\n",
       "      <td>7</td>\n",
       "      <td>59</td>\n",
       "    </tr>\n",
       "    <tr>\n",
       "      <th>3865</th>\n",
       "      <td>5626</td>\n",
       "      <td>3337</td>\n",
       "      <td>2021-12-23 09:54:34 UTC</td>\n",
       "      <td>2022-02-21 02:15:34 UTC</td>\n",
       "      <td>20.722591</td>\n",
       "      <td>Used</td>\n",
       "      <td>Lindy Bop 'Laney' Chic Vintage 50's Style Blac...</td>\n",
       "      <td>Lindy Bop</td>\n",
       "      <td>37</td>\n",
       "      <td>Women</td>\n",
       "      <td>Shoes</td>\n",
       "      <td>7</td>\n",
       "      <td>59</td>\n",
       "    </tr>\n",
       "  </tbody>\n",
       "</table>\n",
       "<p>27250 rows × 13 columns</p>\n",
       "</div>"
      ],
      "text/plain": [
       "          id  product_id               created_at                  sold_at  \\\n",
       "20696    390       20184  2021-11-24 08:06:47 UTC  2021-11-25 03:52:47 UTC   \n",
       "19351  43639       25044  2021-04-01 13:53:31 UTC  2021-04-01 17:33:31 UTC   \n",
       "21715  67554       19168  2022-01-14 14:18:08 UTC  2022-01-14 15:49:08 UTC   \n",
       "21702  20047       18802  2021-02-24 00:58:34 UTC  2021-02-24 12:49:34 UTC   \n",
       "19353   4935       25120  2022-01-15 18:41:17 UTC  2022-01-16 11:16:17 UTC   \n",
       "...      ...         ...                      ...                      ...   \n",
       "26236   9122       25745  2021-04-15 01:14:50 UTC  2021-06-14 00:17:50 UTC   \n",
       "18564  25871        9980  2019-04-26 13:36:50 UTC  2019-06-25 00:40:50 UTC   \n",
       "9308   58983       21106  2021-01-07 12:03:52 UTC  2021-03-08 08:17:52 UTC   \n",
       "13013  30630       21899  2021-07-31 15:42:54 UTC  2021-09-29 03:44:54 UTC   \n",
       "3865    5626        3337  2021-12-23 09:54:34 UTC  2022-02-21 02:15:34 UTC   \n",
       "\n",
       "            cost product_category  \\\n",
       "20696  29.357639        Very Used   \n",
       "19351   5.314680             Used   \n",
       "21715  13.053000              New   \n",
       "21702  87.674400              New   \n",
       "19353   6.059550       Almost New   \n",
       "...          ...              ...   \n",
       "26236  24.597878       Almost New   \n",
       "18564  28.946026             Used   \n",
       "9308   91.945000       Almost New   \n",
       "13013  15.495404       Almost New   \n",
       "3865   20.722591             Used   \n",
       "\n",
       "                                            product_name product_brand  \\\n",
       "20696  Men's Single Breasted 3 Button Gray Pinstripe ...         Abini   \n",
       "19351                   SockGuy Men's Mudflap Girl Socks       SockGuy   \n",
       "21715     John Henry Men's Long Sleeve Crew Neck Sweater    John Henry   \n",
       "21702              J.C. Rags Men's Reversed Cable Blazer     J.C. Rags   \n",
       "19353                        SockGuy Men's Unicorn Socks       SockGuy   \n",
       "...                                                  ...           ...   \n",
       "26236                Bjorn Borg Men's Double Layer Longs    Bjorn Borg   \n",
       "18564  White 52 Inch Hooded Terry Robe W/double Stitc...  Spa & Resort   \n",
       "9308   Paige Premium Denim Men's Stone Canyon Boot Cu...         PAIGE   \n",
       "13013            Ed Garments Men's Flat Front Pant. 2577   Ed Garments   \n",
       "3865   Lindy Bop 'Laney' Chic Vintage 50's Style Blac...     Lindy Bop   \n",
       "\n",
       "       product_retail_price product_department product_sku  \\\n",
       "20696                    38                Men       Shoes   \n",
       "19351                    41                Men       Shoes   \n",
       "21715                    39                Men       Shoes   \n",
       "21702                    42                Men       Shoes   \n",
       "19353                    41                Men       Shoes   \n",
       "...                     ...                ...         ...   \n",
       "26236                    43                Men       Shoes   \n",
       "18564                    42              Women       Shoes   \n",
       "9308                     44                Men       Shoes   \n",
       "13013                    39                Men       Shoes   \n",
       "3865                     37              Women       Shoes   \n",
       "\n",
       "       product_distribution_center_id  days_storage  \n",
       "20696                               4             0  \n",
       "19351                               2             0  \n",
       "21715                               3             0  \n",
       "21702                               1             0  \n",
       "19353                               2             0  \n",
       "...                               ...           ...  \n",
       "26236                               9            59  \n",
       "18564                               1            59  \n",
       "9308                                7            59  \n",
       "13013                               7            59  \n",
       "3865                                7            59  \n",
       "\n",
       "[27250 rows x 13 columns]"
      ]
     },
     "execution_count": 26,
     "metadata": {},
     "output_type": "execute_result"
    }
   ],
   "source": [
    "df_priced"
   ]
  },
  {
   "cell_type": "code",
   "execution_count": null,
   "id": "4abd2b35",
   "metadata": {},
   "outputs": [],
   "source": []
  },
  {
   "cell_type": "code",
   "execution_count": 27,
   "id": "cf75b35f",
   "metadata": {},
   "outputs": [],
   "source": [
    "from faker import Faker\n",
    "fake = Faker('it_IT')\n",
    "\n",
    "for i in list(df_priced['product_name'].unique()):\n",
    "    selected_brand=df_priced[df_priced[\"product_name\"]==i]\n",
    "    brand=list(selected_brand['product_brand'])[0]\n",
    "    df_priced.loc[df_priced['product_name']==i, \"product_name\"] =[k.split(' ')[0] + ' ' + fake.name() for k in list(selected_brand['product_name'])]\n",
    "\n"
   ]
  },
  {
   "cell_type": "code",
   "execution_count": 28,
   "id": "0715415c",
   "metadata": {},
   "outputs": [],
   "source": [
    "df_train = df_priced[['product_sku','product_brand', 'product_category', 'product_department','product_name','product_retail_price', 'days_storage', 'cost']]\n"
   ]
  },
  {
   "cell_type": "code",
   "execution_count": 29,
   "id": "2461d3cd",
   "metadata": {},
   "outputs": [
    {
     "name": "stderr",
     "output_type": "stream",
     "text": [
      "/Library/Frameworks/Python.framework/Versions/3.9/lib/python3.9/site-packages/pandas/core/frame.py:5039: SettingWithCopyWarning: \n",
      "A value is trying to be set on a copy of a slice from a DataFrame\n",
      "\n",
      "See the caveats in the documentation: https://pandas.pydata.org/pandas-docs/stable/user_guide/indexing.html#returning-a-view-versus-a-copy\n",
      "  return super().rename(\n"
     ]
    }
   ],
   "source": [
    "df_train.rename({\"product_sku\" : \"Item\",\n",
    "                 \"product_department\": \"Gender\",\n",
    "                 \"product_brand\": \"Brand\", \n",
    "                 \"product_name\":\"Model\",\n",
    "                 \"product_category\":\"Usage\",\n",
    "                 \"product_retail_price\": \"Size\", \n",
    "                 \"days_storage\":\"Sale_Until\",\n",
    "                 \"cost\" :\"Prize\"},axis='columns', inplace=True)"
   ]
  },
  {
   "cell_type": "code",
   "execution_count": 30,
   "id": "feb59963",
   "metadata": {},
   "outputs": [
    {
     "data": {
      "text/html": [
       "<div>\n",
       "<style scoped>\n",
       "    .dataframe tbody tr th:only-of-type {\n",
       "        vertical-align: middle;\n",
       "    }\n",
       "\n",
       "    .dataframe tbody tr th {\n",
       "        vertical-align: top;\n",
       "    }\n",
       "\n",
       "    .dataframe thead th {\n",
       "        text-align: right;\n",
       "    }\n",
       "</style>\n",
       "<table border=\"1\" class=\"dataframe\">\n",
       "  <thead>\n",
       "    <tr style=\"text-align: right;\">\n",
       "      <th></th>\n",
       "      <th>Item</th>\n",
       "      <th>Brand</th>\n",
       "      <th>Usage</th>\n",
       "      <th>Gender</th>\n",
       "      <th>Model</th>\n",
       "      <th>Size</th>\n",
       "      <th>Sale_Until</th>\n",
       "      <th>Prize</th>\n",
       "    </tr>\n",
       "  </thead>\n",
       "  <tbody>\n",
       "    <tr>\n",
       "      <th>20696</th>\n",
       "      <td>Shoes</td>\n",
       "      <td>Abini</td>\n",
       "      <td>Very Used</td>\n",
       "      <td>Men</td>\n",
       "      <td>Men's Luigina Trapani</td>\n",
       "      <td>38</td>\n",
       "      <td>0</td>\n",
       "      <td>29.357639</td>\n",
       "    </tr>\n",
       "    <tr>\n",
       "      <th>19351</th>\n",
       "      <td>Shoes</td>\n",
       "      <td>SockGuy</td>\n",
       "      <td>Used</td>\n",
       "      <td>Men</td>\n",
       "      <td>SockGuy Virginia Paolucci</td>\n",
       "      <td>41</td>\n",
       "      <td>0</td>\n",
       "      <td>5.314680</td>\n",
       "    </tr>\n",
       "    <tr>\n",
       "      <th>21715</th>\n",
       "      <td>Shoes</td>\n",
       "      <td>John Henry</td>\n",
       "      <td>New</td>\n",
       "      <td>Men</td>\n",
       "      <td>John Laura Boaga</td>\n",
       "      <td>39</td>\n",
       "      <td>0</td>\n",
       "      <td>13.053000</td>\n",
       "    </tr>\n",
       "    <tr>\n",
       "      <th>21702</th>\n",
       "      <td>Shoes</td>\n",
       "      <td>J.C. Rags</td>\n",
       "      <td>New</td>\n",
       "      <td>Men</td>\n",
       "      <td>J.C. Bianca Pellegrini</td>\n",
       "      <td>42</td>\n",
       "      <td>0</td>\n",
       "      <td>87.674400</td>\n",
       "    </tr>\n",
       "    <tr>\n",
       "      <th>19353</th>\n",
       "      <td>Shoes</td>\n",
       "      <td>SockGuy</td>\n",
       "      <td>Almost New</td>\n",
       "      <td>Men</td>\n",
       "      <td>SockGuy Pasqual Ottino-Pareto</td>\n",
       "      <td>41</td>\n",
       "      <td>0</td>\n",
       "      <td>6.059550</td>\n",
       "    </tr>\n",
       "    <tr>\n",
       "      <th>...</th>\n",
       "      <td>...</td>\n",
       "      <td>...</td>\n",
       "      <td>...</td>\n",
       "      <td>...</td>\n",
       "      <td>...</td>\n",
       "      <td>...</td>\n",
       "      <td>...</td>\n",
       "      <td>...</td>\n",
       "    </tr>\n",
       "    <tr>\n",
       "      <th>26236</th>\n",
       "      <td>Shoes</td>\n",
       "      <td>Bjorn Borg</td>\n",
       "      <td>Almost New</td>\n",
       "      <td>Men</td>\n",
       "      <td>Bjorn Greco Volta</td>\n",
       "      <td>43</td>\n",
       "      <td>59</td>\n",
       "      <td>24.597878</td>\n",
       "    </tr>\n",
       "    <tr>\n",
       "      <th>18564</th>\n",
       "      <td>Shoes</td>\n",
       "      <td>Spa &amp; Resort</td>\n",
       "      <td>Used</td>\n",
       "      <td>Women</td>\n",
       "      <td>White Ernesto Gatto</td>\n",
       "      <td>42</td>\n",
       "      <td>59</td>\n",
       "      <td>28.946026</td>\n",
       "    </tr>\n",
       "    <tr>\n",
       "      <th>9308</th>\n",
       "      <td>Shoes</td>\n",
       "      <td>PAIGE</td>\n",
       "      <td>Almost New</td>\n",
       "      <td>Men</td>\n",
       "      <td>Paige Agnolo Onisto-Samele</td>\n",
       "      <td>44</td>\n",
       "      <td>59</td>\n",
       "      <td>91.945000</td>\n",
       "    </tr>\n",
       "    <tr>\n",
       "      <th>13013</th>\n",
       "      <td>Shoes</td>\n",
       "      <td>Ed Garments</td>\n",
       "      <td>Almost New</td>\n",
       "      <td>Men</td>\n",
       "      <td>Ed Massimo Trillini</td>\n",
       "      <td>39</td>\n",
       "      <td>59</td>\n",
       "      <td>15.495404</td>\n",
       "    </tr>\n",
       "    <tr>\n",
       "      <th>3865</th>\n",
       "      <td>Shoes</td>\n",
       "      <td>Lindy Bop</td>\n",
       "      <td>Used</td>\n",
       "      <td>Women</td>\n",
       "      <td>Lindy Milena Medici</td>\n",
       "      <td>37</td>\n",
       "      <td>59</td>\n",
       "      <td>20.722591</td>\n",
       "    </tr>\n",
       "  </tbody>\n",
       "</table>\n",
       "<p>27250 rows × 8 columns</p>\n",
       "</div>"
      ],
      "text/plain": [
       "        Item         Brand       Usage Gender                          Model  \\\n",
       "20696  Shoes         Abini   Very Used    Men          Men's Luigina Trapani   \n",
       "19351  Shoes       SockGuy        Used    Men      SockGuy Virginia Paolucci   \n",
       "21715  Shoes    John Henry         New    Men               John Laura Boaga   \n",
       "21702  Shoes     J.C. Rags         New    Men         J.C. Bianca Pellegrini   \n",
       "19353  Shoes       SockGuy  Almost New    Men  SockGuy Pasqual Ottino-Pareto   \n",
       "...      ...           ...         ...    ...                            ...   \n",
       "26236  Shoes    Bjorn Borg  Almost New    Men              Bjorn Greco Volta   \n",
       "18564  Shoes  Spa & Resort        Used  Women            White Ernesto Gatto   \n",
       "9308   Shoes         PAIGE  Almost New    Men     Paige Agnolo Onisto-Samele   \n",
       "13013  Shoes   Ed Garments  Almost New    Men            Ed Massimo Trillini   \n",
       "3865   Shoes     Lindy Bop        Used  Women            Lindy Milena Medici   \n",
       "\n",
       "       Size  Sale_Until      Prize  \n",
       "20696    38           0  29.357639  \n",
       "19351    41           0   5.314680  \n",
       "21715    39           0  13.053000  \n",
       "21702    42           0  87.674400  \n",
       "19353    41           0   6.059550  \n",
       "...     ...         ...        ...  \n",
       "26236    43          59  24.597878  \n",
       "18564    42          59  28.946026  \n",
       "9308     44          59  91.945000  \n",
       "13013    39          59  15.495404  \n",
       "3865     37          59  20.722591  \n",
       "\n",
       "[27250 rows x 8 columns]"
      ]
     },
     "execution_count": 30,
     "metadata": {},
     "output_type": "execute_result"
    }
   ],
   "source": [
    "df_train"
   ]
  },
  {
   "cell_type": "code",
   "execution_count": 31,
   "id": "6530c6c4",
   "metadata": {},
   "outputs": [],
   "source": [
    "df_train=df_train[df_train['Prize'] < 150]\n",
    "df_train=df_train[df_train['Sale_Until'] < 50]"
   ]
  },
  {
   "cell_type": "code",
   "execution_count": 32,
   "id": "1bf1f4e1",
   "metadata": {},
   "outputs": [],
   "source": [
    "df_train.to_csv(\"thelook2.csv\")"
   ]
  },
  {
   "cell_type": "code",
   "execution_count": null,
   "id": "14875e74",
   "metadata": {},
   "outputs": [],
   "source": []
  },
  {
   "cell_type": "code",
   "execution_count": 33,
   "id": "1db2c320",
   "metadata": {
    "scrolled": true
   },
   "outputs": [],
   "source": [
    "df_train['Gender'].replace(['Men', 'Women'],\n",
    "                        [0, 1], inplace=True)"
   ]
  },
  {
   "cell_type": "code",
   "execution_count": 34,
   "id": "12d99377",
   "metadata": {},
   "outputs": [],
   "source": [
    "df_train['Usage'].replace(['New', 'Almost New', 'Used', 'Very Used'],\n",
    "                        [0, 1,2,3], inplace=True)"
   ]
  },
  {
   "cell_type": "code",
   "execution_count": 35,
   "id": "0d792711",
   "metadata": {},
   "outputs": [
    {
     "data": {
      "text/html": [
       "<div>\n",
       "<style scoped>\n",
       "    .dataframe tbody tr th:only-of-type {\n",
       "        vertical-align: middle;\n",
       "    }\n",
       "\n",
       "    .dataframe tbody tr th {\n",
       "        vertical-align: top;\n",
       "    }\n",
       "\n",
       "    .dataframe thead th {\n",
       "        text-align: right;\n",
       "    }\n",
       "</style>\n",
       "<table border=\"1\" class=\"dataframe\">\n",
       "  <thead>\n",
       "    <tr style=\"text-align: right;\">\n",
       "      <th></th>\n",
       "      <th>Item</th>\n",
       "      <th>Brand</th>\n",
       "      <th>Usage</th>\n",
       "      <th>Gender</th>\n",
       "      <th>Model</th>\n",
       "      <th>Size</th>\n",
       "      <th>Sale_Until</th>\n",
       "      <th>Prize</th>\n",
       "    </tr>\n",
       "  </thead>\n",
       "  <tbody>\n",
       "    <tr>\n",
       "      <th>20696</th>\n",
       "      <td>Shoes</td>\n",
       "      <td>Abini</td>\n",
       "      <td>3</td>\n",
       "      <td>0</td>\n",
       "      <td>Men's Luigina Trapani</td>\n",
       "      <td>38</td>\n",
       "      <td>0</td>\n",
       "      <td>29.357639</td>\n",
       "    </tr>\n",
       "    <tr>\n",
       "      <th>19351</th>\n",
       "      <td>Shoes</td>\n",
       "      <td>SockGuy</td>\n",
       "      <td>2</td>\n",
       "      <td>0</td>\n",
       "      <td>SockGuy Virginia Paolucci</td>\n",
       "      <td>41</td>\n",
       "      <td>0</td>\n",
       "      <td>5.314680</td>\n",
       "    </tr>\n",
       "    <tr>\n",
       "      <th>21715</th>\n",
       "      <td>Shoes</td>\n",
       "      <td>John Henry</td>\n",
       "      <td>0</td>\n",
       "      <td>0</td>\n",
       "      <td>John Laura Boaga</td>\n",
       "      <td>39</td>\n",
       "      <td>0</td>\n",
       "      <td>13.053000</td>\n",
       "    </tr>\n",
       "    <tr>\n",
       "      <th>21702</th>\n",
       "      <td>Shoes</td>\n",
       "      <td>J.C. Rags</td>\n",
       "      <td>0</td>\n",
       "      <td>0</td>\n",
       "      <td>J.C. Bianca Pellegrini</td>\n",
       "      <td>42</td>\n",
       "      <td>0</td>\n",
       "      <td>87.674400</td>\n",
       "    </tr>\n",
       "    <tr>\n",
       "      <th>19353</th>\n",
       "      <td>Shoes</td>\n",
       "      <td>SockGuy</td>\n",
       "      <td>1</td>\n",
       "      <td>0</td>\n",
       "      <td>SockGuy Pasqual Ottino-Pareto</td>\n",
       "      <td>41</td>\n",
       "      <td>0</td>\n",
       "      <td>6.059550</td>\n",
       "    </tr>\n",
       "    <tr>\n",
       "      <th>...</th>\n",
       "      <td>...</td>\n",
       "      <td>...</td>\n",
       "      <td>...</td>\n",
       "      <td>...</td>\n",
       "      <td>...</td>\n",
       "      <td>...</td>\n",
       "      <td>...</td>\n",
       "      <td>...</td>\n",
       "    </tr>\n",
       "    <tr>\n",
       "      <th>7798</th>\n",
       "      <td>Shoes</td>\n",
       "      <td>VIVILLI</td>\n",
       "      <td>2</td>\n",
       "      <td>1</td>\n",
       "      <td>VIVILLI Griselda Ruggieri-Terragni</td>\n",
       "      <td>38</td>\n",
       "      <td>49</td>\n",
       "      <td>12.699600</td>\n",
       "    </tr>\n",
       "    <tr>\n",
       "      <th>24613</th>\n",
       "      <td>Shoes</td>\n",
       "      <td>Sons Of Anarchy</td>\n",
       "      <td>0</td>\n",
       "      <td>0</td>\n",
       "      <td>Bold Dott. Claudio Giannone</td>\n",
       "      <td>39</td>\n",
       "      <td>49</td>\n",
       "      <td>15.932312</td>\n",
       "    </tr>\n",
       "    <tr>\n",
       "      <th>3178</th>\n",
       "      <td>Shoes</td>\n",
       "      <td>Alex Evenings</td>\n",
       "      <td>3</td>\n",
       "      <td>1</td>\n",
       "      <td>Plus Giancarlo Barracco</td>\n",
       "      <td>42</td>\n",
       "      <td>49</td>\n",
       "      <td>42.195779</td>\n",
       "    </tr>\n",
       "    <tr>\n",
       "      <th>12124</th>\n",
       "      <td>Shoes</td>\n",
       "      <td>MontBell</td>\n",
       "      <td>3</td>\n",
       "      <td>0</td>\n",
       "      <td>MontBell Gianpietro Camuccini</td>\n",
       "      <td>41</td>\n",
       "      <td>49</td>\n",
       "      <td>75.222000</td>\n",
       "    </tr>\n",
       "    <tr>\n",
       "      <th>3347</th>\n",
       "      <td>Shoes</td>\n",
       "      <td>2b by bebe</td>\n",
       "      <td>3</td>\n",
       "      <td>1</td>\n",
       "      <td>2B Milo Lettiere-Foscari</td>\n",
       "      <td>38</td>\n",
       "      <td>49</td>\n",
       "      <td>15.156068</td>\n",
       "    </tr>\n",
       "  </tbody>\n",
       "</table>\n",
       "<p>22577 rows × 8 columns</p>\n",
       "</div>"
      ],
      "text/plain": [
       "        Item            Brand Usage  Gender  \\\n",
       "20696  Shoes            Abini     3       0   \n",
       "19351  Shoes          SockGuy     2       0   \n",
       "21715  Shoes       John Henry     0       0   \n",
       "21702  Shoes        J.C. Rags     0       0   \n",
       "19353  Shoes          SockGuy     1       0   \n",
       "...      ...              ...   ...     ...   \n",
       "7798   Shoes          VIVILLI     2       1   \n",
       "24613  Shoes  Sons Of Anarchy     0       0   \n",
       "3178   Shoes    Alex Evenings     3       1   \n",
       "12124  Shoes         MontBell     3       0   \n",
       "3347   Shoes       2b by bebe     3       1   \n",
       "\n",
       "                                    Model  Size  Sale_Until      Prize  \n",
       "20696               Men's Luigina Trapani    38           0  29.357639  \n",
       "19351           SockGuy Virginia Paolucci    41           0   5.314680  \n",
       "21715                    John Laura Boaga    39           0  13.053000  \n",
       "21702              J.C. Bianca Pellegrini    42           0  87.674400  \n",
       "19353       SockGuy Pasqual Ottino-Pareto    41           0   6.059550  \n",
       "...                                   ...   ...         ...        ...  \n",
       "7798   VIVILLI Griselda Ruggieri-Terragni    38          49  12.699600  \n",
       "24613         Bold Dott. Claudio Giannone    39          49  15.932312  \n",
       "3178              Plus Giancarlo Barracco    42          49  42.195779  \n",
       "12124       MontBell Gianpietro Camuccini    41          49  75.222000  \n",
       "3347             2B Milo Lettiere-Foscari    38          49  15.156068  \n",
       "\n",
       "[22577 rows x 8 columns]"
      ]
     },
     "execution_count": 35,
     "metadata": {},
     "output_type": "execute_result"
    }
   ],
   "source": [
    "df_train"
   ]
  },
  {
   "cell_type": "code",
   "execution_count": 36,
   "id": "7ee0c1c7",
   "metadata": {
    "scrolled": true
   },
   "outputs": [
    {
     "data": {
      "text/plain": [
       "148"
      ]
     },
     "execution_count": 36,
     "metadata": {},
     "output_type": "execute_result"
    }
   ],
   "source": [
    "len(list(dict(df_train['Brand'].value_counts().loc[lambda x : x>30]).keys()))"
   ]
  },
  {
   "cell_type": "code",
   "execution_count": 37,
   "id": "e5858f76",
   "metadata": {},
   "outputs": [],
   "source": [
    "result = dict()\n",
    "for i in list(dict(df_train['Brand'].value_counts().loc[lambda x : x>30]).keys()):\n",
    "    result[i]=df_train[df_train['Brand']==i]"
   ]
  },
  {
   "cell_type": "code",
   "execution_count": 38,
   "id": "854af2bc",
   "metadata": {},
   "outputs": [],
   "source": [
    "def from_dict_value_to_df(d):\n",
    "    \"\"\"\n",
    "    input = dictionary\n",
    "    output = dataframe as part of all the values from the dictionary\n",
    "    \"\"\"\n",
    "    df = pd.DataFrame()\n",
    "    for v in d.values():\n",
    "        df = df.append(v)\n",
    "    return df"
   ]
  },
  {
   "cell_type": "code",
   "execution_count": 39,
   "id": "e865be8c",
   "metadata": {},
   "outputs": [],
   "source": [
    "df_brands=from_dict_value_to_df(result)"
   ]
  },
  {
   "cell_type": "code",
   "execution_count": null,
   "id": "1abfb8a0",
   "metadata": {},
   "outputs": [],
   "source": []
  },
  {
   "cell_type": "code",
   "execution_count": 40,
   "id": "c73b36c6",
   "metadata": {},
   "outputs": [],
   "source": [
    "df_brands['Brand'].replace(list(df_brands['Brand'].unique()),\n",
    "                        range(len(list(df_brands['Brand'].unique()))), inplace=True)"
   ]
  },
  {
   "cell_type": "code",
   "execution_count": 45,
   "id": "e026eb90",
   "metadata": {},
   "outputs": [],
   "source": [
    "df_num=df_brands.drop(['Item', 'Model'], axis=1)"
   ]
  },
  {
   "cell_type": "code",
   "execution_count": 51,
   "id": "9d67e9e7",
   "metadata": {},
   "outputs": [],
   "source": [
    "mask = pd.to_numeric(df_num['Usage'], errors='coerce').isna()"
   ]
  },
  {
   "cell_type": "code",
   "execution_count": 61,
   "id": "6aaaea9c",
   "metadata": {},
   "outputs": [
    {
     "data": {
      "text/html": [
       "<div>\n",
       "<style scoped>\n",
       "    .dataframe tbody tr th:only-of-type {\n",
       "        vertical-align: middle;\n",
       "    }\n",
       "\n",
       "    .dataframe tbody tr th {\n",
       "        vertical-align: top;\n",
       "    }\n",
       "\n",
       "    .dataframe thead th {\n",
       "        text-align: right;\n",
       "    }\n",
       "</style>\n",
       "<table border=\"1\" class=\"dataframe\">\n",
       "  <thead>\n",
       "    <tr style=\"text-align: right;\">\n",
       "      <th></th>\n",
       "      <th>Item</th>\n",
       "      <th>Brand</th>\n",
       "      <th>Usage</th>\n",
       "      <th>Gender</th>\n",
       "      <th>Model</th>\n",
       "      <th>Size</th>\n",
       "      <th>Sale_Until</th>\n",
       "      <th>Prize</th>\n",
       "    </tr>\n",
       "  </thead>\n",
       "  <tbody>\n",
       "    <tr>\n",
       "      <th>2905</th>\n",
       "      <td>Shoes</td>\n",
       "      <td>0</td>\n",
       "      <td>0</td>\n",
       "      <td>1</td>\n",
       "      <td>Allegra Stefano Gabba</td>\n",
       "      <td>42</td>\n",
       "      <td>0</td>\n",
       "      <td>5.649250</td>\n",
       "    </tr>\n",
       "    <tr>\n",
       "      <th>9893</th>\n",
       "      <td>Shoes</td>\n",
       "      <td>0</td>\n",
       "      <td>2</td>\n",
       "      <td>1</td>\n",
       "      <td>Allegra Sig. Lucio Natta</td>\n",
       "      <td>43</td>\n",
       "      <td>0</td>\n",
       "      <td>6.764181</td>\n",
       "    </tr>\n",
       "    <tr>\n",
       "      <th>2927</th>\n",
       "      <td>Shoes</td>\n",
       "      <td>0</td>\n",
       "      <td>0</td>\n",
       "      <td>1</td>\n",
       "      <td>Allegra Dott. Anita Gentileschi</td>\n",
       "      <td>41</td>\n",
       "      <td>0</td>\n",
       "      <td>4.488939</td>\n",
       "    </tr>\n",
       "    <tr>\n",
       "      <th>2944</th>\n",
       "      <td>Shoes</td>\n",
       "      <td>0</td>\n",
       "      <td>3</td>\n",
       "      <td>1</td>\n",
       "      <td>Allegra Giorgio Zaccardo</td>\n",
       "      <td>42</td>\n",
       "      <td>0</td>\n",
       "      <td>4.392930</td>\n",
       "    </tr>\n",
       "    <tr>\n",
       "      <th>2962</th>\n",
       "      <td>Shoes</td>\n",
       "      <td>0</td>\n",
       "      <td>1</td>\n",
       "      <td>1</td>\n",
       "      <td>Allegra Dott. Alfio Cimarosa</td>\n",
       "      <td>45</td>\n",
       "      <td>0</td>\n",
       "      <td>4.050373</td>\n",
       "    </tr>\n",
       "    <tr>\n",
       "      <th>...</th>\n",
       "      <td>...</td>\n",
       "      <td>...</td>\n",
       "      <td>...</td>\n",
       "      <td>...</td>\n",
       "      <td>...</td>\n",
       "      <td>...</td>\n",
       "      <td>...</td>\n",
       "      <td>...</td>\n",
       "    </tr>\n",
       "    <tr>\n",
       "      <th>20515</th>\n",
       "      <td>Shoes</td>\n",
       "      <td>147</td>\n",
       "      <td>3</td>\n",
       "      <td>0</td>\n",
       "      <td>Elegant Angelo Zeffirelli</td>\n",
       "      <td>42</td>\n",
       "      <td>44</td>\n",
       "      <td>43.150683</td>\n",
       "    </tr>\n",
       "    <tr>\n",
       "      <th>20458</th>\n",
       "      <td>Shoes</td>\n",
       "      <td>147</td>\n",
       "      <td>2</td>\n",
       "      <td>0</td>\n",
       "      <td>Classy Tina Orlando</td>\n",
       "      <td>45</td>\n",
       "      <td>45</td>\n",
       "      <td>9.807094</td>\n",
       "    </tr>\n",
       "    <tr>\n",
       "      <th>81</th>\n",
       "      <td>Shoes</td>\n",
       "      <td>147</td>\n",
       "      <td>0</td>\n",
       "      <td>0</td>\n",
       "      <td>American Giuliana Palmisano</td>\n",
       "      <td>41</td>\n",
       "      <td>47</td>\n",
       "      <td>5.031048</td>\n",
       "    </tr>\n",
       "    <tr>\n",
       "      <th>20448</th>\n",
       "      <td>Shoes</td>\n",
       "      <td>147</td>\n",
       "      <td>0</td>\n",
       "      <td>0</td>\n",
       "      <td>Classy Alfredo Zacchia-Luxardo</td>\n",
       "      <td>44</td>\n",
       "      <td>47</td>\n",
       "      <td>9.257369</td>\n",
       "    </tr>\n",
       "    <tr>\n",
       "      <th>20438</th>\n",
       "      <td>Shoes</td>\n",
       "      <td>147</td>\n",
       "      <td>1</td>\n",
       "      <td>0</td>\n",
       "      <td>Classy Carla Berlusconi</td>\n",
       "      <td>42</td>\n",
       "      <td>49</td>\n",
       "      <td>51.739687</td>\n",
       "    </tr>\n",
       "  </tbody>\n",
       "</table>\n",
       "<p>12081 rows × 8 columns</p>\n",
       "</div>"
      ],
      "text/plain": [
       "        Item  Brand Usage  Gender                            Model  Size  \\\n",
       "2905   Shoes      0     0       1            Allegra Stefano Gabba    42   \n",
       "9893   Shoes      0     2       1         Allegra Sig. Lucio Natta    43   \n",
       "2927   Shoes      0     0       1  Allegra Dott. Anita Gentileschi    41   \n",
       "2944   Shoes      0     3       1         Allegra Giorgio Zaccardo    42   \n",
       "2962   Shoes      0     1       1     Allegra Dott. Alfio Cimarosa    45   \n",
       "...      ...    ...   ...     ...                              ...   ...   \n",
       "20515  Shoes    147     3       0        Elegant Angelo Zeffirelli    42   \n",
       "20458  Shoes    147     2       0              Classy Tina Orlando    45   \n",
       "81     Shoes    147     0       0      American Giuliana Palmisano    41   \n",
       "20448  Shoes    147     0       0   Classy Alfredo Zacchia-Luxardo    44   \n",
       "20438  Shoes    147     1       0          Classy Carla Berlusconi    42   \n",
       "\n",
       "       Sale_Until      Prize  \n",
       "2905            0   5.649250  \n",
       "9893            0   6.764181  \n",
       "2927            0   4.488939  \n",
       "2944            0   4.392930  \n",
       "2962            0   4.050373  \n",
       "...           ...        ...  \n",
       "20515          44  43.150683  \n",
       "20458          45   9.807094  \n",
       "81             47   5.031048  \n",
       "20448          47   9.257369  \n",
       "20438          49  51.739687  \n",
       "\n",
       "[12081 rows x 8 columns]"
      ]
     },
     "execution_count": 61,
     "metadata": {},
     "output_type": "execute_result"
    }
   ],
   "source": []
  },
  {
   "cell_type": "code",
   "execution_count": null,
   "id": "007a0669",
   "metadata": {},
   "outputs": [],
   "source": [
    "# import pickle\n",
    "\n",
    "# import numpy as np\n",
    "# import pandas as pd\n",
    "# from sklearn.model_selection import KFold\n",
    "# from xgboost import XGBRegressor"
   ]
  },
  {
   "cell_type": "code",
   "execution_count": null,
   "id": "c7063439",
   "metadata": {},
   "outputs": [],
   "source": [
    "# Y = df_train['Prize']  # dependent variable\n",
    "# X = df_train[['Item', 'Brand', 'Usage', 'Model', 'Size', 'Sale_Until']]  # independent variable"
   ]
  },
  {
   "cell_type": "code",
   "execution_count": null,
   "id": "7772af02",
   "metadata": {},
   "outputs": [],
   "source": [
    "# from pandas import DataFrame\n",
    "# import matplotlib.pyplot as plt\n",
    "# from sklearn.cluster import KMeans\n",
    "# import seaborn as sns\n",
    "\n",
    "# sns.set(style='whitegrid', rc={'figure.figsize':(11.7,8.27)})\n",
    "# sns.set_context('poster')"
   ]
  },
  {
   "cell_type": "code",
   "execution_count": null,
   "id": "a687faa1",
   "metadata": {},
   "outputs": [],
   "source": [
    "# kmeans = KMeans(n_clusters=4).fit(df_train[['Prize', 'Sale_Until']])\n",
    "# centroids = kmeans.cluster_centers_\n",
    "# print(centroids)"
   ]
  },
  {
   "cell_type": "code",
   "execution_count": null,
   "id": "0a0778fb",
   "metadata": {},
   "outputs": [],
   "source": [
    "# plt.scatter(df_train['Sale_Until'], df_train['Prize'], c= kmeans.labels_.astype(float), s=50, alpha=0.5)\n",
    "# plt.scatter(centroids[:, 0], centroids[:, 1], c='green', s=50)\n",
    "# plt.show()"
   ]
  },
  {
   "cell_type": "code",
   "execution_count": null,
   "id": "e9c87d29",
   "metadata": {},
   "outputs": [],
   "source": []
  }
 ],
 "metadata": {
  "kernelspec": {
   "display_name": "Python 3 (ipykernel)",
   "language": "python",
   "name": "python3"
  },
  "language_info": {
   "codemirror_mode": {
    "name": "ipython",
    "version": 3
   },
   "file_extension": ".py",
   "mimetype": "text/x-python",
   "name": "python",
   "nbconvert_exporter": "python",
   "pygments_lexer": "ipython3",
   "version": "3.9.2rc1"
  }
 },
 "nbformat": 4,
 "nbformat_minor": 5
}
