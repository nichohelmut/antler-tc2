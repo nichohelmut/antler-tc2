{
 "cells": [
  {
   "cell_type": "code",
   "execution_count": 55,
   "id": "ce6baa85",
   "metadata": {},
   "outputs": [],
   "source": [
    "import pandas as pd\n",
    "import numpy as np\n",
    "from sklearn.model_selection import KFold\n",
    "from xgboost import XGBRegressor"
   ]
  },
  {
   "cell_type": "code",
   "execution_count": 56,
   "id": "c3224593",
   "metadata": {},
   "outputs": [],
   "source": [
    "# df = pd.read_csv('cloth_prices.csv', sep=';')\n"
   ]
  },
  {
   "cell_type": "code",
   "execution_count": 57,
   "id": "0024b92e",
   "metadata": {},
   "outputs": [],
   "source": [
    "# df"
   ]
  },
  {
   "cell_type": "code",
   "execution_count": 58,
   "id": "8e4cb908",
   "metadata": {},
   "outputs": [],
   "source": [
    "# Y = df['Price']  # dependent variable\n",
    "# X = df[['Item', 'Brand', 'Usage', 'Size']]  # independent variable"
   ]
  },
  {
   "cell_type": "code",
   "execution_count": 59,
   "id": "305ea36f",
   "metadata": {
    "scrolled": true
   },
   "outputs": [],
   "source": [
    "# kf = KFold(n_splits=4, random_state=0, shuffle=True)\n",
    "# kf.get_n_splits(X)"
   ]
  },
  {
   "cell_type": "code",
   "execution_count": 60,
   "id": "a69690b2",
   "metadata": {},
   "outputs": [],
   "source": [
    "# X_num = np.array(X)\n",
    "# y_num = np.array(Y)"
   ]
  },
  {
   "cell_type": "code",
   "execution_count": 61,
   "id": "e7ed8d44",
   "metadata": {},
   "outputs": [],
   "source": [
    "# for train_index, test_index in kf.split(X):\n",
    "#     print(\"TRAIN:\", train_index, \"TEST:\", test_index)\n",
    "#     X_train, X_test = X_num[train_index], X_num[test_index]\n",
    "#     y_train, y_test = y_num[train_index], y_num[test_index]"
   ]
  },
  {
   "cell_type": "code",
   "execution_count": 62,
   "id": "c2dcbcc7",
   "metadata": {},
   "outputs": [],
   "source": [
    "# model = XGBRegressor(n_estimators=1000, max_depth=7, eta=0.1, subsample=0.7, colsample_bytree=0.8)"
   ]
  },
  {
   "cell_type": "code",
   "execution_count": 63,
   "id": "1fafcdaa",
   "metadata": {},
   "outputs": [],
   "source": [
    "# model.fit(X_train, y_train, verbose=True)"
   ]
  },
  {
   "cell_type": "markdown",
   "id": "8fd5cb83",
   "metadata": {},
   "source": [
    "## Fake Data Generator"
   ]
  },
  {
   "cell_type": "code",
   "execution_count": 68,
   "id": "ef8c0629",
   "metadata": {},
   "outputs": [],
   "source": [
    "df_look = pd.read_csv('dataset/thelook.csv')"
   ]
  },
  {
   "cell_type": "code",
   "execution_count": 69,
   "id": "3f1f17e7",
   "metadata": {},
   "outputs": [
    {
     "data": {
      "text/html": [
       "<div>\n",
       "<style scoped>\n",
       "    .dataframe tbody tr th:only-of-type {\n",
       "        vertical-align: middle;\n",
       "    }\n",
       "\n",
       "    .dataframe tbody tr th {\n",
       "        vertical-align: top;\n",
       "    }\n",
       "\n",
       "    .dataframe thead th {\n",
       "        text-align: right;\n",
       "    }\n",
       "</style>\n",
       "<table border=\"1\" class=\"dataframe\">\n",
       "  <thead>\n",
       "    <tr style=\"text-align: right;\">\n",
       "      <th></th>\n",
       "      <th>id</th>\n",
       "      <th>product_id</th>\n",
       "      <th>created_at</th>\n",
       "      <th>sold_at</th>\n",
       "      <th>cost</th>\n",
       "      <th>product_category</th>\n",
       "      <th>product_name</th>\n",
       "      <th>product_brand</th>\n",
       "      <th>product_retail_price</th>\n",
       "      <th>product_department</th>\n",
       "      <th>product_sku</th>\n",
       "      <th>product_distribution_center_id</th>\n",
       "      <th>days_storage</th>\n",
       "    </tr>\n",
       "  </thead>\n",
       "  <tbody>\n",
       "    <tr>\n",
       "      <th>0</th>\n",
       "      <td>72384</td>\n",
       "      <td>13844</td>\n",
       "      <td>2021-05-04 00:18:09 UTC</td>\n",
       "      <td>2021-05-08 00:56:09 UTC</td>\n",
       "      <td>2.76804</td>\n",
       "      <td>Accessories</td>\n",
       "      <td>(ONE) 1 Satin Headband</td>\n",
       "      <td>Funny Girl Designs</td>\n",
       "      <td>6.99</td>\n",
       "      <td>Women</td>\n",
       "      <td>2A3E953A5E3D81E67945BCE5519F84C8</td>\n",
       "      <td>7</td>\n",
       "      <td>4</td>\n",
       "    </tr>\n",
       "    <tr>\n",
       "      <th>1</th>\n",
       "      <td>36195</td>\n",
       "      <td>14086</td>\n",
       "      <td>2021-05-07 20:48:50 UTC</td>\n",
       "      <td>2021-06-04 11:23:50 UTC</td>\n",
       "      <td>2.24625</td>\n",
       "      <td>Accessories</td>\n",
       "      <td>(One) CHEER Rhinestone Studded Stretch Headband</td>\n",
       "      <td>Funny Girl Designs</td>\n",
       "      <td>5.99</td>\n",
       "      <td>Women</td>\n",
       "      <td>8EFA9015A4EF4632A954E820ECA834AD</td>\n",
       "      <td>7</td>\n",
       "      <td>27</td>\n",
       "    </tr>\n",
       "    <tr>\n",
       "      <th>2</th>\n",
       "      <td>64993</td>\n",
       "      <td>14086</td>\n",
       "      <td>2020-05-04 20:24:01 UTC</td>\n",
       "      <td>2020-05-13 12:20:01 UTC</td>\n",
       "      <td>2.24625</td>\n",
       "      <td>Accessories</td>\n",
       "      <td>(One) CHEER Rhinestone Studded Stretch Headband</td>\n",
       "      <td>Funny Girl Designs</td>\n",
       "      <td>5.99</td>\n",
       "      <td>Women</td>\n",
       "      <td>8EFA9015A4EF4632A954E820ECA834AD</td>\n",
       "      <td>7</td>\n",
       "      <td>8</td>\n",
       "    </tr>\n",
       "  </tbody>\n",
       "</table>\n",
       "</div>"
      ],
      "text/plain": [
       "      id  product_id               created_at                  sold_at  \\\n",
       "0  72384       13844  2021-05-04 00:18:09 UTC  2021-05-08 00:56:09 UTC   \n",
       "1  36195       14086  2021-05-07 20:48:50 UTC  2021-06-04 11:23:50 UTC   \n",
       "2  64993       14086  2020-05-04 20:24:01 UTC  2020-05-13 12:20:01 UTC   \n",
       "\n",
       "      cost product_category                                     product_name  \\\n",
       "0  2.76804      Accessories                           (ONE) 1 Satin Headband   \n",
       "1  2.24625      Accessories  (One) CHEER Rhinestone Studded Stretch Headband   \n",
       "2  2.24625      Accessories  (One) CHEER Rhinestone Studded Stretch Headband   \n",
       "\n",
       "        product_brand  product_retail_price product_department  \\\n",
       "0  Funny Girl Designs                  6.99              Women   \n",
       "1  Funny Girl Designs                  5.99              Women   \n",
       "2  Funny Girl Designs                  5.99              Women   \n",
       "\n",
       "                        product_sku  product_distribution_center_id  \\\n",
       "0  2A3E953A5E3D81E67945BCE5519F84C8                               7   \n",
       "1  8EFA9015A4EF4632A954E820ECA834AD                               7   \n",
       "2  8EFA9015A4EF4632A954E820ECA834AD                               7   \n",
       "\n",
       "   days_storage  \n",
       "0             4  \n",
       "1            27  \n",
       "2             8  "
      ]
     },
     "execution_count": 69,
     "metadata": {},
     "output_type": "execute_result"
    }
   ],
   "source": [
    "df_look.head(3)"
   ]
  },
  {
   "cell_type": "code",
   "execution_count": 70,
   "id": "624358c2",
   "metadata": {},
   "outputs": [],
   "source": [
    "df_look.sort_values(['days_storage'], ascending=[True],inplace=True)"
   ]
  },
  {
   "cell_type": "code",
   "execution_count": 71,
   "id": "232b44bc",
   "metadata": {},
   "outputs": [],
   "source": [
    "p1=[0.4, 0.3, 0.15, 0.1, 0.05]\n",
    "p2=[0.35, .35, 0.15, 0.1, 0.05]\n",
    "p3=[0.2, 0.3, 0.25, 0.2, 0.05]\n",
    "p4=[0.1, 0.3, 0.35, 0.15, 0.1]\n",
    "p5=[0.05, 0.1, 0.15, 0.3, 0.4]"
   ]
  },
  {
   "cell_type": "code",
   "execution_count": 72,
   "id": "1b555a45",
   "metadata": {
    "scrolled": true
   },
   "outputs": [
    {
     "data": {
      "text/plain": [
       "5450"
      ]
     },
     "execution_count": 72,
     "metadata": {},
     "output_type": "execute_result"
    }
   ],
   "source": [
    "int(np.round(len(df_look['cost'])/5,0))"
   ]
  },
  {
   "cell_type": "code",
   "execution_count": 73,
   "id": "d684f679",
   "metadata": {},
   "outputs": [],
   "source": [
    "df_look_1=df_look.iloc[:5450,:]"
   ]
  },
  {
   "cell_type": "code",
   "execution_count": 74,
   "id": "03b0c7da",
   "metadata": {},
   "outputs": [
    {
     "data": {
      "text/plain": [
       "20696    29.357639\n",
       "19351     5.314680\n",
       "21715    13.740000\n",
       "21702    87.674400\n",
       "19353     5.193900\n",
       "           ...    \n",
       "3118     42.876541\n",
       "3124     19.934839\n",
       "186       6.865659\n",
       "27127    15.163000\n",
       "1021     37.910000\n",
       "Name: cost, Length: 5450, dtype: float64"
      ]
     },
     "execution_count": 74,
     "metadata": {},
     "output_type": "execute_result"
    }
   ],
   "source": [
    "df_look_1=df_look_1['cost'].apply(\n",
    "    lambda x: x * np.random.choice(np.arange(.9, 1.1, 0.05), p=p1)\n",
    ")\n",
    "df_look_1"
   ]
  },
  {
   "cell_type": "code",
   "execution_count": 75,
   "id": "198bc05c",
   "metadata": {},
   "outputs": [
    {
     "data": {
      "text/plain": [
       "184       4.442580\n",
       "24878    19.089000\n",
       "4099     65.443600\n",
       "24881    14.029600\n",
       "3013     20.085860\n",
       "           ...    \n",
       "812       5.963937\n",
       "8294     46.055934\n",
       "835      20.493000\n",
       "22440    19.516164\n",
       "17634    30.470551\n",
       "Name: cost, Length: 5450, dtype: float64"
      ]
     },
     "execution_count": 75,
     "metadata": {},
     "output_type": "execute_result"
    }
   ],
   "source": [
    "df_look_2=df_look.iloc[5450:10900,:]\n",
    "df_look_2=df_look_2['cost'].apply(\n",
    "    lambda x: x * np.random.choice(np.arange(.9, 1.1, 0.05), p=p2)\n",
    ")\n",
    "df_look_2"
   ]
  },
  {
   "cell_type": "code",
   "execution_count": 76,
   "id": "8e38ed92",
   "metadata": {},
   "outputs": [
    {
     "data": {
      "text/plain": [
       "6082     26.067600\n",
       "3266     69.451200\n",
       "15283    41.737500\n",
       "9322     29.799000\n",
       "21815    13.909077\n",
       "           ...    \n",
       "1808     19.520600\n",
       "24838    47.209500\n",
       "25855    27.266400\n",
       "5446     28.096200\n",
       "22989    14.233933\n",
       "Name: cost, Length: 5450, dtype: float64"
      ]
     },
     "execution_count": 76,
     "metadata": {},
     "output_type": "execute_result"
    }
   ],
   "source": [
    "df_look_3=df_look.iloc[10900:16350,:]\n",
    "df_look_3=df_look_3['cost'].apply(\n",
    "    lambda x: x * np.random.choice(np.arange(.9, 1.1, 0.05), p=p3)\n",
    ")\n",
    "df_look_3"
   ]
  },
  {
   "cell_type": "code",
   "execution_count": 77,
   "id": "8b8225a5",
   "metadata": {},
   "outputs": [
    {
     "data": {
      "text/plain": [
       "25571    30.450000\n",
       "24482    22.822800\n",
       "1874     10.346400\n",
       "2189      2.343000\n",
       "22913    12.487860\n",
       "           ...    \n",
       "8918     18.967258\n",
       "11786    20.080150\n",
       "381       1.318920\n",
       "8906     17.211448\n",
       "12593    52.359059\n",
       "Name: cost, Length: 5450, dtype: float64"
      ]
     },
     "execution_count": 77,
     "metadata": {},
     "output_type": "execute_result"
    }
   ],
   "source": [
    "df_look_4=df_look.iloc[16350:21800,:]\n",
    "df_look_4=df_look_4['cost'].apply(\n",
    "    lambda x: x * np.random.choice(np.arange(.9, 1.1, 0.05), p=p4)\n",
    ")\n",
    "df_look_4"
   ]
  },
  {
   "cell_type": "code",
   "execution_count": 78,
   "id": "65b12a69",
   "metadata": {
    "scrolled": true
   },
   "outputs": [
    {
     "data": {
      "text/plain": [
       "12647     9.229462\n",
       "8652     72.492383\n",
       "8841     25.480000\n",
       "20429    49.336871\n",
       "8894     65.356200\n",
       "           ...    \n",
       "26236    25.769205\n",
       "18564    33.516451\n",
       "9308     96.542250\n",
       "13013    15.495404\n",
       "3865     20.722591\n",
       "Name: cost, Length: 5450, dtype: float64"
      ]
     },
     "execution_count": 78,
     "metadata": {},
     "output_type": "execute_result"
    }
   ],
   "source": [
    "df_look_5=df_look.iloc[21800:27250,:]\n",
    "df_look_5=df_look_5['cost'].apply(\n",
    "    lambda x: x * np.random.choice(np.arange(.9, 1.1, 0.05), p=p5)\n",
    ")\n",
    "df_look_5"
   ]
  },
  {
   "cell_type": "code",
   "execution_count": 79,
   "id": "d893854d",
   "metadata": {},
   "outputs": [],
   "source": [
    "df_look_cost = list(df_look_1) + list(df_look_2)+ list(df_look_3)+list(df_look_4)+list(df_look_5)"
   ]
  },
  {
   "cell_type": "code",
   "execution_count": 80,
   "id": "13fcd01a",
   "metadata": {},
   "outputs": [],
   "source": [
    "df_look=df_look.iloc[:-1,:]"
   ]
  },
  {
   "cell_type": "code",
   "execution_count": 81,
   "id": "ebb54f82",
   "metadata": {},
   "outputs": [],
   "source": [
    "df_look['cost']=df_look_cost"
   ]
  },
  {
   "cell_type": "code",
   "execution_count": 82,
   "id": "2193a008",
   "metadata": {},
   "outputs": [
    {
     "data": {
      "text/plain": [
       "22002    8\n",
       "8712     7\n",
       "19805    7\n",
       "10701    7\n",
       "13631    6\n",
       "        ..\n",
       "6040     1\n",
       "25164    1\n",
       "11155    1\n",
       "20199    1\n",
       "21899    1\n",
       "Name: product_id, Length: 17744, dtype: int64"
      ]
     },
     "execution_count": 82,
     "metadata": {},
     "output_type": "execute_result"
    }
   ],
   "source": [
    "df_look['product_id'].value_counts()"
   ]
  },
  {
   "cell_type": "code",
   "execution_count": 83,
   "id": "9b7da7b0",
   "metadata": {},
   "outputs": [],
   "source": [
    "df_priced=df_look.copy()"
   ]
  },
  {
   "cell_type": "code",
   "execution_count": 84,
   "id": "5800eef6",
   "metadata": {},
   "outputs": [
    {
     "data": {
      "text/plain": [
       "Allegra K         868\n",
       "Calvin Klein      471\n",
       "Carhartt          376\n",
       "Volcom            289\n",
       "Tommy Hilfiger    284\n",
       "                 ... \n",
       "Konflict            1\n",
       "Bobi                1\n",
       "Monologue           1\n",
       "Motony              1\n",
       "Heather             1\n",
       "Name: product_brand, Length: 2324, dtype: int64"
      ]
     },
     "execution_count": 84,
     "metadata": {},
     "output_type": "execute_result"
    }
   ],
   "source": [
    "df_priced['product_brand'].value_counts()"
   ]
  },
  {
   "cell_type": "code",
   "execution_count": 85,
   "id": "fce81600",
   "metadata": {
    "scrolled": true
   },
   "outputs": [
    {
     "name": "stderr",
     "output_type": "stream",
     "text": [
      "/var/folders/vw/5s4wkzhj0hbf60qvln7n6cs80000gn/T/ipykernel_32003/4081827586.py:4: SettingWithCopyWarning: \n",
      "A value is trying to be set on a copy of a slice from a DataFrame\n",
      "\n",
      "See the caveats in the documentation: https://pandas.pydata.org/pandas-docs/stable/user_guide/indexing.html#returning-a-view-versus-a-copy\n",
      "  df_priced['product_category'][i]=random.choice(usage)\n"
     ]
    }
   ],
   "source": [
    "import random\n",
    "usage = ['New', 'Almost New', 'Used', 'Very Used']\n",
    "for i in range(len(df_priced['product_category'])):\n",
    "    df_priced['product_category'][i]=random.choice(usage)"
   ]
  },
  {
   "cell_type": "code",
   "execution_count": 86,
   "id": "989da27f",
   "metadata": {},
   "outputs": [
    {
     "name": "stderr",
     "output_type": "stream",
     "text": [
      "/var/folders/vw/5s4wkzhj0hbf60qvln7n6cs80000gn/T/ipykernel_32003/812683257.py:2: SettingWithCopyWarning: \n",
      "A value is trying to be set on a copy of a slice from a DataFrame\n",
      "\n",
      "See the caveats in the documentation: https://pandas.pydata.org/pandas-docs/stable/user_guide/indexing.html#returning-a-view-versus-a-copy\n",
      "  df_priced['product_retail_price'][i]=int(np.random.choice(np.arange(37, 46, 1)))\n"
     ]
    }
   ],
   "source": [
    "for i in range(len(df_priced['product_category'])):\n",
    "    df_priced['product_retail_price'][i]=int(np.random.choice(np.arange(37, 46, 1)))"
   ]
  },
  {
   "cell_type": "code",
   "execution_count": 87,
   "id": "6c42baf8",
   "metadata": {},
   "outputs": [],
   "source": [
    "df_priced['product_retail_price']=df_priced['product_retail_price'].astype(int)"
   ]
  },
  {
   "cell_type": "code",
   "execution_count": 88,
   "id": "fe2792cd",
   "metadata": {
    "scrolled": true
   },
   "outputs": [
    {
     "data": {
      "text/html": [
       "<div>\n",
       "<style scoped>\n",
       "    .dataframe tbody tr th:only-of-type {\n",
       "        vertical-align: middle;\n",
       "    }\n",
       "\n",
       "    .dataframe tbody tr th {\n",
       "        vertical-align: top;\n",
       "    }\n",
       "\n",
       "    .dataframe thead th {\n",
       "        text-align: right;\n",
       "    }\n",
       "</style>\n",
       "<table border=\"1\" class=\"dataframe\">\n",
       "  <thead>\n",
       "    <tr style=\"text-align: right;\">\n",
       "      <th></th>\n",
       "      <th>id</th>\n",
       "      <th>product_id</th>\n",
       "      <th>created_at</th>\n",
       "      <th>sold_at</th>\n",
       "      <th>cost</th>\n",
       "      <th>product_category</th>\n",
       "      <th>product_name</th>\n",
       "      <th>product_brand</th>\n",
       "      <th>product_retail_price</th>\n",
       "      <th>product_department</th>\n",
       "      <th>product_sku</th>\n",
       "      <th>product_distribution_center_id</th>\n",
       "      <th>days_storage</th>\n",
       "    </tr>\n",
       "  </thead>\n",
       "  <tbody>\n",
       "    <tr>\n",
       "      <th>20696</th>\n",
       "      <td>390</td>\n",
       "      <td>20184</td>\n",
       "      <td>2021-11-24 08:06:47 UTC</td>\n",
       "      <td>2021-11-25 03:52:47 UTC</td>\n",
       "      <td>29.357639</td>\n",
       "      <td>Almost New</td>\n",
       "      <td>Men's Single Breasted 3 Button Gray Pinstripe ...</td>\n",
       "      <td>Abini</td>\n",
       "      <td>38</td>\n",
       "      <td>Men</td>\n",
       "      <td>AD7F941F991AD6CCD8D433FED457FB63</td>\n",
       "      <td>4</td>\n",
       "      <td>0</td>\n",
       "    </tr>\n",
       "    <tr>\n",
       "      <th>19351</th>\n",
       "      <td>43639</td>\n",
       "      <td>25044</td>\n",
       "      <td>2021-04-01 13:53:31 UTC</td>\n",
       "      <td>2021-04-01 17:33:31 UTC</td>\n",
       "      <td>5.314680</td>\n",
       "      <td>New</td>\n",
       "      <td>SockGuy Men's Mudflap Girl Socks</td>\n",
       "      <td>SockGuy</td>\n",
       "      <td>41</td>\n",
       "      <td>Men</td>\n",
       "      <td>BCEA8E33F6A05964BDF4AC26C1AA89CF</td>\n",
       "      <td>2</td>\n",
       "      <td>0</td>\n",
       "    </tr>\n",
       "    <tr>\n",
       "      <th>21715</th>\n",
       "      <td>67554</td>\n",
       "      <td>19168</td>\n",
       "      <td>2022-01-14 14:18:08 UTC</td>\n",
       "      <td>2022-01-14 15:49:08 UTC</td>\n",
       "      <td>13.740000</td>\n",
       "      <td>Very Used</td>\n",
       "      <td>John Henry Men's Long Sleeve Crew Neck Sweater</td>\n",
       "      <td>John Henry</td>\n",
       "      <td>38</td>\n",
       "      <td>Men</td>\n",
       "      <td>0D81F8D2278A750F06F9FD48FE57CEF0</td>\n",
       "      <td>3</td>\n",
       "      <td>0</td>\n",
       "    </tr>\n",
       "    <tr>\n",
       "      <th>21702</th>\n",
       "      <td>20047</td>\n",
       "      <td>18802</td>\n",
       "      <td>2021-02-24 00:58:34 UTC</td>\n",
       "      <td>2021-02-24 12:49:34 UTC</td>\n",
       "      <td>87.674400</td>\n",
       "      <td>Used</td>\n",
       "      <td>J.C. Rags Men's Reversed Cable Blazer</td>\n",
       "      <td>J.C. Rags</td>\n",
       "      <td>41</td>\n",
       "      <td>Men</td>\n",
       "      <td>BA29C0A9D05316B187201C304B20120D</td>\n",
       "      <td>1</td>\n",
       "      <td>0</td>\n",
       "    </tr>\n",
       "    <tr>\n",
       "      <th>19353</th>\n",
       "      <td>4935</td>\n",
       "      <td>25120</td>\n",
       "      <td>2022-01-15 18:41:17 UTC</td>\n",
       "      <td>2022-01-16 11:16:17 UTC</td>\n",
       "      <td>5.193900</td>\n",
       "      <td>Very Used</td>\n",
       "      <td>SockGuy Men's Unicorn Socks</td>\n",
       "      <td>SockGuy</td>\n",
       "      <td>43</td>\n",
       "      <td>Men</td>\n",
       "      <td>65B5FC46FC82087BA24609B14F2DC4FF</td>\n",
       "      <td>2</td>\n",
       "      <td>0</td>\n",
       "    </tr>\n",
       "    <tr>\n",
       "      <th>...</th>\n",
       "      <td>...</td>\n",
       "      <td>...</td>\n",
       "      <td>...</td>\n",
       "      <td>...</td>\n",
       "      <td>...</td>\n",
       "      <td>...</td>\n",
       "      <td>...</td>\n",
       "      <td>...</td>\n",
       "      <td>...</td>\n",
       "      <td>...</td>\n",
       "      <td>...</td>\n",
       "      <td>...</td>\n",
       "      <td>...</td>\n",
       "    </tr>\n",
       "    <tr>\n",
       "      <th>26236</th>\n",
       "      <td>9122</td>\n",
       "      <td>25745</td>\n",
       "      <td>2021-04-15 01:14:50 UTC</td>\n",
       "      <td>2021-06-14 00:17:50 UTC</td>\n",
       "      <td>25.769205</td>\n",
       "      <td>Almost New</td>\n",
       "      <td>Bjorn Borg Men's Double Layer Longs</td>\n",
       "      <td>Bjorn Borg</td>\n",
       "      <td>39</td>\n",
       "      <td>Men</td>\n",
       "      <td>FB8E1EA7FBBEBEAD5AF0CA4DB35408D0</td>\n",
       "      <td>9</td>\n",
       "      <td>59</td>\n",
       "    </tr>\n",
       "    <tr>\n",
       "      <th>18564</th>\n",
       "      <td>25871</td>\n",
       "      <td>9980</td>\n",
       "      <td>2019-04-26 13:36:50 UTC</td>\n",
       "      <td>2019-06-25 00:40:50 UTC</td>\n",
       "      <td>33.516451</td>\n",
       "      <td>New</td>\n",
       "      <td>White 52 Inch Hooded Terry Robe W/double Stitc...</td>\n",
       "      <td>Spa &amp; Resort</td>\n",
       "      <td>38</td>\n",
       "      <td>Women</td>\n",
       "      <td>A5329A91EF79DB75900BD9CAB3D96E43</td>\n",
       "      <td>1</td>\n",
       "      <td>59</td>\n",
       "    </tr>\n",
       "    <tr>\n",
       "      <th>9308</th>\n",
       "      <td>58983</td>\n",
       "      <td>21106</td>\n",
       "      <td>2021-01-07 12:03:52 UTC</td>\n",
       "      <td>2021-03-08 08:17:52 UTC</td>\n",
       "      <td>96.542250</td>\n",
       "      <td>New</td>\n",
       "      <td>Paige Premium Denim Men's Stone Canyon Boot Cu...</td>\n",
       "      <td>PAIGE</td>\n",
       "      <td>39</td>\n",
       "      <td>Men</td>\n",
       "      <td>C3DF79D5324C4E6263F0A865B4EAAE0B</td>\n",
       "      <td>7</td>\n",
       "      <td>59</td>\n",
       "    </tr>\n",
       "    <tr>\n",
       "      <th>13013</th>\n",
       "      <td>30630</td>\n",
       "      <td>21899</td>\n",
       "      <td>2021-07-31 15:42:54 UTC</td>\n",
       "      <td>2021-09-29 03:44:54 UTC</td>\n",
       "      <td>15.495404</td>\n",
       "      <td>New</td>\n",
       "      <td>Ed Garments Men's Flat Front Pant. 2577</td>\n",
       "      <td>Ed Garments</td>\n",
       "      <td>42</td>\n",
       "      <td>Men</td>\n",
       "      <td>4F372AD0CB173CAF4691D83696B3B08A</td>\n",
       "      <td>7</td>\n",
       "      <td>59</td>\n",
       "    </tr>\n",
       "    <tr>\n",
       "      <th>3865</th>\n",
       "      <td>5626</td>\n",
       "      <td>3337</td>\n",
       "      <td>2021-12-23 09:54:34 UTC</td>\n",
       "      <td>2022-02-21 02:15:34 UTC</td>\n",
       "      <td>20.722591</td>\n",
       "      <td>Almost New</td>\n",
       "      <td>Lindy Bop 'Laney' Chic Vintage 50's Style Blac...</td>\n",
       "      <td>Lindy Bop</td>\n",
       "      <td>41</td>\n",
       "      <td>Women</td>\n",
       "      <td>A4FA7175D4757E45EAC71A8487751F63</td>\n",
       "      <td>7</td>\n",
       "      <td>59</td>\n",
       "    </tr>\n",
       "  </tbody>\n",
       "</table>\n",
       "<p>27250 rows × 13 columns</p>\n",
       "</div>"
      ],
      "text/plain": [
       "          id  product_id               created_at                  sold_at  \\\n",
       "20696    390       20184  2021-11-24 08:06:47 UTC  2021-11-25 03:52:47 UTC   \n",
       "19351  43639       25044  2021-04-01 13:53:31 UTC  2021-04-01 17:33:31 UTC   \n",
       "21715  67554       19168  2022-01-14 14:18:08 UTC  2022-01-14 15:49:08 UTC   \n",
       "21702  20047       18802  2021-02-24 00:58:34 UTC  2021-02-24 12:49:34 UTC   \n",
       "19353   4935       25120  2022-01-15 18:41:17 UTC  2022-01-16 11:16:17 UTC   \n",
       "...      ...         ...                      ...                      ...   \n",
       "26236   9122       25745  2021-04-15 01:14:50 UTC  2021-06-14 00:17:50 UTC   \n",
       "18564  25871        9980  2019-04-26 13:36:50 UTC  2019-06-25 00:40:50 UTC   \n",
       "9308   58983       21106  2021-01-07 12:03:52 UTC  2021-03-08 08:17:52 UTC   \n",
       "13013  30630       21899  2021-07-31 15:42:54 UTC  2021-09-29 03:44:54 UTC   \n",
       "3865    5626        3337  2021-12-23 09:54:34 UTC  2022-02-21 02:15:34 UTC   \n",
       "\n",
       "            cost product_category  \\\n",
       "20696  29.357639       Almost New   \n",
       "19351   5.314680              New   \n",
       "21715  13.740000        Very Used   \n",
       "21702  87.674400             Used   \n",
       "19353   5.193900        Very Used   \n",
       "...          ...              ...   \n",
       "26236  25.769205       Almost New   \n",
       "18564  33.516451              New   \n",
       "9308   96.542250              New   \n",
       "13013  15.495404              New   \n",
       "3865   20.722591       Almost New   \n",
       "\n",
       "                                            product_name product_brand  \\\n",
       "20696  Men's Single Breasted 3 Button Gray Pinstripe ...         Abini   \n",
       "19351                   SockGuy Men's Mudflap Girl Socks       SockGuy   \n",
       "21715     John Henry Men's Long Sleeve Crew Neck Sweater    John Henry   \n",
       "21702              J.C. Rags Men's Reversed Cable Blazer     J.C. Rags   \n",
       "19353                        SockGuy Men's Unicorn Socks       SockGuy   \n",
       "...                                                  ...           ...   \n",
       "26236                Bjorn Borg Men's Double Layer Longs    Bjorn Borg   \n",
       "18564  White 52 Inch Hooded Terry Robe W/double Stitc...  Spa & Resort   \n",
       "9308   Paige Premium Denim Men's Stone Canyon Boot Cu...         PAIGE   \n",
       "13013            Ed Garments Men's Flat Front Pant. 2577   Ed Garments   \n",
       "3865   Lindy Bop 'Laney' Chic Vintage 50's Style Blac...     Lindy Bop   \n",
       "\n",
       "       product_retail_price product_department  \\\n",
       "20696                    38                Men   \n",
       "19351                    41                Men   \n",
       "21715                    38                Men   \n",
       "21702                    41                Men   \n",
       "19353                    43                Men   \n",
       "...                     ...                ...   \n",
       "26236                    39                Men   \n",
       "18564                    38              Women   \n",
       "9308                     39                Men   \n",
       "13013                    42                Men   \n",
       "3865                     41              Women   \n",
       "\n",
       "                            product_sku  product_distribution_center_id  \\\n",
       "20696  AD7F941F991AD6CCD8D433FED457FB63                               4   \n",
       "19351  BCEA8E33F6A05964BDF4AC26C1AA89CF                               2   \n",
       "21715  0D81F8D2278A750F06F9FD48FE57CEF0                               3   \n",
       "21702  BA29C0A9D05316B187201C304B20120D                               1   \n",
       "19353  65B5FC46FC82087BA24609B14F2DC4FF                               2   \n",
       "...                                 ...                             ...   \n",
       "26236  FB8E1EA7FBBEBEAD5AF0CA4DB35408D0                               9   \n",
       "18564  A5329A91EF79DB75900BD9CAB3D96E43                               1   \n",
       "9308   C3DF79D5324C4E6263F0A865B4EAAE0B                               7   \n",
       "13013  4F372AD0CB173CAF4691D83696B3B08A                               7   \n",
       "3865   A4FA7175D4757E45EAC71A8487751F63                               7   \n",
       "\n",
       "       days_storage  \n",
       "20696             0  \n",
       "19351             0  \n",
       "21715             0  \n",
       "21702             0  \n",
       "19353             0  \n",
       "...             ...  \n",
       "26236            59  \n",
       "18564            59  \n",
       "9308             59  \n",
       "13013            59  \n",
       "3865             59  \n",
       "\n",
       "[27250 rows x 13 columns]"
      ]
     },
     "execution_count": 88,
     "metadata": {},
     "output_type": "execute_result"
    }
   ],
   "source": [
    "df_priced"
   ]
  },
  {
   "cell_type": "code",
   "execution_count": 89,
   "id": "cf75b35f",
   "metadata": {},
   "outputs": [],
   "source": [
    "from faker import Faker\n",
    "fake = Faker('it_IT')\n",
    "\n",
    "for i in list(df_priced['product_name'].unique()):\n",
    "    selected_brand=df_priced[df_priced[\"product_name\"]==i]\n",
    "    brand=list(selected_brand['product_brand'])[0]\n",
    "    df_priced.loc[df_priced['product_name']==i, \"product_name\"] =[k.split(' ')[0] + ' ' + fake.name() for k in list(selected_brand['product_name'])]\n",
    "\n"
   ]
  },
  {
   "cell_type": "code",
   "execution_count": null,
   "id": "f2aed61c",
   "metadata": {},
   "outputs": [],
   "source": []
  },
  {
   "cell_type": "code",
   "execution_count": 217,
   "id": "0715415c",
   "metadata": {},
   "outputs": [],
   "source": [
    "df_train = df_priced[['product_sku','product_brand', 'product_category', 'product_department','product_name','product_retail_price', 'days_storage', 'cost']]\n"
   ]
  },
  {
   "cell_type": "code",
   "execution_count": 218,
   "id": "2461d3cd",
   "metadata": {},
   "outputs": [
    {
     "name": "stderr",
     "output_type": "stream",
     "text": [
      "/Library/Frameworks/Python.framework/Versions/3.9/lib/python3.9/site-packages/pandas/core/frame.py:5039: SettingWithCopyWarning: \n",
      "A value is trying to be set on a copy of a slice from a DataFrame\n",
      "\n",
      "See the caveats in the documentation: https://pandas.pydata.org/pandas-docs/stable/user_guide/indexing.html#returning-a-view-versus-a-copy\n",
      "  return super().rename(\n"
     ]
    }
   ],
   "source": [
    "df_train.rename({\"product_sku\" : \"Item\",\n",
    "                 \"product_department\": \"Gender\",\n",
    "                 \"product_brand\": \"Brand\", \n",
    "                 \"product_name\":\"Model\",\n",
    "                 \"product_category\":\"Usage\",\n",
    "                 \"product_retail_price\": \"Size\", \n",
    "                 \"days_storage\":\"Sale_Until\",\n",
    "                 \"cost\" :\"Prize\"},axis='columns', inplace=True)"
   ]
  },
  {
   "cell_type": "code",
   "execution_count": 219,
   "id": "feb59963",
   "metadata": {},
   "outputs": [
    {
     "data": {
      "text/html": [
       "<div>\n",
       "<style scoped>\n",
       "    .dataframe tbody tr th:only-of-type {\n",
       "        vertical-align: middle;\n",
       "    }\n",
       "\n",
       "    .dataframe tbody tr th {\n",
       "        vertical-align: top;\n",
       "    }\n",
       "\n",
       "    .dataframe thead th {\n",
       "        text-align: right;\n",
       "    }\n",
       "</style>\n",
       "<table border=\"1\" class=\"dataframe\">\n",
       "  <thead>\n",
       "    <tr style=\"text-align: right;\">\n",
       "      <th></th>\n",
       "      <th>Item</th>\n",
       "      <th>Brand</th>\n",
       "      <th>Usage</th>\n",
       "      <th>Gender</th>\n",
       "      <th>Model</th>\n",
       "      <th>Size</th>\n",
       "      <th>Sale_Until</th>\n",
       "      <th>Prize</th>\n",
       "    </tr>\n",
       "  </thead>\n",
       "  <tbody>\n",
       "    <tr>\n",
       "      <th>20696</th>\n",
       "      <td>AD7F941F991AD6CCD8D433FED457FB63</td>\n",
       "      <td>Abini</td>\n",
       "      <td>Almost New</td>\n",
       "      <td>Men</td>\n",
       "      <td>Men's Durante Bellucci</td>\n",
       "      <td>38</td>\n",
       "      <td>0</td>\n",
       "      <td>29.357639</td>\n",
       "    </tr>\n",
       "    <tr>\n",
       "      <th>19351</th>\n",
       "      <td>BCEA8E33F6A05964BDF4AC26C1AA89CF</td>\n",
       "      <td>SockGuy</td>\n",
       "      <td>New</td>\n",
       "      <td>Men</td>\n",
       "      <td>SockGuy Imelda Bossi-Nicolucci</td>\n",
       "      <td>41</td>\n",
       "      <td>0</td>\n",
       "      <td>5.314680</td>\n",
       "    </tr>\n",
       "    <tr>\n",
       "      <th>21715</th>\n",
       "      <td>0D81F8D2278A750F06F9FD48FE57CEF0</td>\n",
       "      <td>John Henry</td>\n",
       "      <td>Very Used</td>\n",
       "      <td>Men</td>\n",
       "      <td>John Eugenia Borgia</td>\n",
       "      <td>38</td>\n",
       "      <td>0</td>\n",
       "      <td>13.740000</td>\n",
       "    </tr>\n",
       "    <tr>\n",
       "      <th>21702</th>\n",
       "      <td>BA29C0A9D05316B187201C304B20120D</td>\n",
       "      <td>J.C. Rags</td>\n",
       "      <td>Used</td>\n",
       "      <td>Men</td>\n",
       "      <td>J.C. Milo Vento</td>\n",
       "      <td>41</td>\n",
       "      <td>0</td>\n",
       "      <td>87.674400</td>\n",
       "    </tr>\n",
       "    <tr>\n",
       "      <th>19353</th>\n",
       "      <td>65B5FC46FC82087BA24609B14F2DC4FF</td>\n",
       "      <td>SockGuy</td>\n",
       "      <td>Very Used</td>\n",
       "      <td>Men</td>\n",
       "      <td>SockGuy Giulia Gilardoni</td>\n",
       "      <td>43</td>\n",
       "      <td>0</td>\n",
       "      <td>5.193900</td>\n",
       "    </tr>\n",
       "    <tr>\n",
       "      <th>...</th>\n",
       "      <td>...</td>\n",
       "      <td>...</td>\n",
       "      <td>...</td>\n",
       "      <td>...</td>\n",
       "      <td>...</td>\n",
       "      <td>...</td>\n",
       "      <td>...</td>\n",
       "      <td>...</td>\n",
       "    </tr>\n",
       "    <tr>\n",
       "      <th>26236</th>\n",
       "      <td>FB8E1EA7FBBEBEAD5AF0CA4DB35408D0</td>\n",
       "      <td>Bjorn Borg</td>\n",
       "      <td>Almost New</td>\n",
       "      <td>Men</td>\n",
       "      <td>Bjorn Sig.ra Giovanna Tarchetti</td>\n",
       "      <td>39</td>\n",
       "      <td>59</td>\n",
       "      <td>25.769205</td>\n",
       "    </tr>\n",
       "    <tr>\n",
       "      <th>18564</th>\n",
       "      <td>A5329A91EF79DB75900BD9CAB3D96E43</td>\n",
       "      <td>Spa &amp; Resort</td>\n",
       "      <td>New</td>\n",
       "      <td>Women</td>\n",
       "      <td>White Natalia Pizziol</td>\n",
       "      <td>38</td>\n",
       "      <td>59</td>\n",
       "      <td>33.516451</td>\n",
       "    </tr>\n",
       "    <tr>\n",
       "      <th>9308</th>\n",
       "      <td>C3DF79D5324C4E6263F0A865B4EAAE0B</td>\n",
       "      <td>PAIGE</td>\n",
       "      <td>New</td>\n",
       "      <td>Men</td>\n",
       "      <td>Paige Bruno Agnesi</td>\n",
       "      <td>39</td>\n",
       "      <td>59</td>\n",
       "      <td>96.542250</td>\n",
       "    </tr>\n",
       "    <tr>\n",
       "      <th>13013</th>\n",
       "      <td>4F372AD0CB173CAF4691D83696B3B08A</td>\n",
       "      <td>Ed Garments</td>\n",
       "      <td>New</td>\n",
       "      <td>Men</td>\n",
       "      <td>Ed Dott. Amedeo Bellocchio</td>\n",
       "      <td>42</td>\n",
       "      <td>59</td>\n",
       "      <td>15.495404</td>\n",
       "    </tr>\n",
       "    <tr>\n",
       "      <th>3865</th>\n",
       "      <td>A4FA7175D4757E45EAC71A8487751F63</td>\n",
       "      <td>Lindy Bop</td>\n",
       "      <td>Almost New</td>\n",
       "      <td>Women</td>\n",
       "      <td>Lindy Gaetano Ferrata-Tarantini</td>\n",
       "      <td>41</td>\n",
       "      <td>59</td>\n",
       "      <td>20.722591</td>\n",
       "    </tr>\n",
       "  </tbody>\n",
       "</table>\n",
       "<p>27250 rows × 8 columns</p>\n",
       "</div>"
      ],
      "text/plain": [
       "                                   Item         Brand       Usage Gender  \\\n",
       "20696  AD7F941F991AD6CCD8D433FED457FB63         Abini  Almost New    Men   \n",
       "19351  BCEA8E33F6A05964BDF4AC26C1AA89CF       SockGuy         New    Men   \n",
       "21715  0D81F8D2278A750F06F9FD48FE57CEF0    John Henry   Very Used    Men   \n",
       "21702  BA29C0A9D05316B187201C304B20120D     J.C. Rags        Used    Men   \n",
       "19353  65B5FC46FC82087BA24609B14F2DC4FF       SockGuy   Very Used    Men   \n",
       "...                                 ...           ...         ...    ...   \n",
       "26236  FB8E1EA7FBBEBEAD5AF0CA4DB35408D0    Bjorn Borg  Almost New    Men   \n",
       "18564  A5329A91EF79DB75900BD9CAB3D96E43  Spa & Resort         New  Women   \n",
       "9308   C3DF79D5324C4E6263F0A865B4EAAE0B         PAIGE         New    Men   \n",
       "13013  4F372AD0CB173CAF4691D83696B3B08A   Ed Garments         New    Men   \n",
       "3865   A4FA7175D4757E45EAC71A8487751F63     Lindy Bop  Almost New  Women   \n",
       "\n",
       "                                 Model  Size  Sale_Until      Prize  \n",
       "20696           Men's Durante Bellucci    38           0  29.357639  \n",
       "19351   SockGuy Imelda Bossi-Nicolucci    41           0   5.314680  \n",
       "21715              John Eugenia Borgia    38           0  13.740000  \n",
       "21702                  J.C. Milo Vento    41           0  87.674400  \n",
       "19353         SockGuy Giulia Gilardoni    43           0   5.193900  \n",
       "...                                ...   ...         ...        ...  \n",
       "26236  Bjorn Sig.ra Giovanna Tarchetti    39          59  25.769205  \n",
       "18564            White Natalia Pizziol    38          59  33.516451  \n",
       "9308                Paige Bruno Agnesi    39          59  96.542250  \n",
       "13013       Ed Dott. Amedeo Bellocchio    42          59  15.495404  \n",
       "3865   Lindy Gaetano Ferrata-Tarantini    41          59  20.722591  \n",
       "\n",
       "[27250 rows x 8 columns]"
      ]
     },
     "execution_count": 219,
     "metadata": {},
     "output_type": "execute_result"
    }
   ],
   "source": [
    "df_train"
   ]
  },
  {
   "cell_type": "code",
   "execution_count": 220,
   "id": "6530c6c4",
   "metadata": {},
   "outputs": [],
   "source": [
    "df_train=df_train[df_train['Prize'] < 150]\n",
    "df_train=df_train[df_train['Sale_Until'] < 50]"
   ]
  },
  {
   "cell_type": "code",
   "execution_count": 221,
   "id": "1bf1f4e1",
   "metadata": {},
   "outputs": [],
   "source": [
    "# df_train.to_csv(\"thelook2.csv\")"
   ]
  },
  {
   "cell_type": "code",
   "execution_count": null,
   "id": "14875e74",
   "metadata": {},
   "outputs": [],
   "source": []
  },
  {
   "cell_type": "code",
   "execution_count": 222,
   "id": "1db2c320",
   "metadata": {
    "scrolled": true
   },
   "outputs": [],
   "source": [
    "df_train['Gender'].replace(['Men', 'Women'],\n",
    "                        [0, 1], inplace=True)"
   ]
  },
  {
   "cell_type": "code",
   "execution_count": 223,
   "id": "98104120",
   "metadata": {},
   "outputs": [],
   "source": [
    "gender_zip=zip(('Men', 'Women'),(0, 1))"
   ]
  },
  {
   "cell_type": "code",
   "execution_count": 224,
   "id": "12d99377",
   "metadata": {},
   "outputs": [],
   "source": [
    "df_train['Usage'].replace(['New', 'Almost New', 'Used', 'Very Used'],\n",
    "                        [0, 1,2,3], inplace=True)"
   ]
  },
  {
   "cell_type": "code",
   "execution_count": 225,
   "id": "3bace2bd",
   "metadata": {},
   "outputs": [],
   "source": [
    "Usage_zip = zip(('New', 'Almost New', 'Used', 'Very Used'),(0, 1,2,3))"
   ]
  },
  {
   "cell_type": "code",
   "execution_count": 226,
   "id": "0d792711",
   "metadata": {},
   "outputs": [
    {
     "data": {
      "text/html": [
       "<div>\n",
       "<style scoped>\n",
       "    .dataframe tbody tr th:only-of-type {\n",
       "        vertical-align: middle;\n",
       "    }\n",
       "\n",
       "    .dataframe tbody tr th {\n",
       "        vertical-align: top;\n",
       "    }\n",
       "\n",
       "    .dataframe thead th {\n",
       "        text-align: right;\n",
       "    }\n",
       "</style>\n",
       "<table border=\"1\" class=\"dataframe\">\n",
       "  <thead>\n",
       "    <tr style=\"text-align: right;\">\n",
       "      <th></th>\n",
       "      <th>Item</th>\n",
       "      <th>Brand</th>\n",
       "      <th>Usage</th>\n",
       "      <th>Gender</th>\n",
       "      <th>Model</th>\n",
       "      <th>Size</th>\n",
       "      <th>Sale_Until</th>\n",
       "      <th>Prize</th>\n",
       "    </tr>\n",
       "  </thead>\n",
       "  <tbody>\n",
       "    <tr>\n",
       "      <th>20696</th>\n",
       "      <td>AD7F941F991AD6CCD8D433FED457FB63</td>\n",
       "      <td>Abini</td>\n",
       "      <td>1</td>\n",
       "      <td>0</td>\n",
       "      <td>Men's Durante Bellucci</td>\n",
       "      <td>38</td>\n",
       "      <td>0</td>\n",
       "      <td>29.357639</td>\n",
       "    </tr>\n",
       "    <tr>\n",
       "      <th>19351</th>\n",
       "      <td>BCEA8E33F6A05964BDF4AC26C1AA89CF</td>\n",
       "      <td>SockGuy</td>\n",
       "      <td>0</td>\n",
       "      <td>0</td>\n",
       "      <td>SockGuy Imelda Bossi-Nicolucci</td>\n",
       "      <td>41</td>\n",
       "      <td>0</td>\n",
       "      <td>5.314680</td>\n",
       "    </tr>\n",
       "    <tr>\n",
       "      <th>21715</th>\n",
       "      <td>0D81F8D2278A750F06F9FD48FE57CEF0</td>\n",
       "      <td>John Henry</td>\n",
       "      <td>3</td>\n",
       "      <td>0</td>\n",
       "      <td>John Eugenia Borgia</td>\n",
       "      <td>38</td>\n",
       "      <td>0</td>\n",
       "      <td>13.740000</td>\n",
       "    </tr>\n",
       "    <tr>\n",
       "      <th>21702</th>\n",
       "      <td>BA29C0A9D05316B187201C304B20120D</td>\n",
       "      <td>J.C. Rags</td>\n",
       "      <td>2</td>\n",
       "      <td>0</td>\n",
       "      <td>J.C. Milo Vento</td>\n",
       "      <td>41</td>\n",
       "      <td>0</td>\n",
       "      <td>87.674400</td>\n",
       "    </tr>\n",
       "    <tr>\n",
       "      <th>19353</th>\n",
       "      <td>65B5FC46FC82087BA24609B14F2DC4FF</td>\n",
       "      <td>SockGuy</td>\n",
       "      <td>3</td>\n",
       "      <td>0</td>\n",
       "      <td>SockGuy Giulia Gilardoni</td>\n",
       "      <td>43</td>\n",
       "      <td>0</td>\n",
       "      <td>5.193900</td>\n",
       "    </tr>\n",
       "    <tr>\n",
       "      <th>...</th>\n",
       "      <td>...</td>\n",
       "      <td>...</td>\n",
       "      <td>...</td>\n",
       "      <td>...</td>\n",
       "      <td>...</td>\n",
       "      <td>...</td>\n",
       "      <td>...</td>\n",
       "      <td>...</td>\n",
       "    </tr>\n",
       "    <tr>\n",
       "      <th>7798</th>\n",
       "      <td>EC4DE54F2F3AFA14175E5EABFC16CE1F</td>\n",
       "      <td>VIVILLI</td>\n",
       "      <td>0</td>\n",
       "      <td>1</td>\n",
       "      <td>VIVILLI Lina Chittolini-Ginese</td>\n",
       "      <td>37</td>\n",
       "      <td>49</td>\n",
       "      <td>14.704800</td>\n",
       "    </tr>\n",
       "    <tr>\n",
       "      <th>24613</th>\n",
       "      <td>AEB66737D37CAC958FE772E12C5C16DD</td>\n",
       "      <td>Sons Of Anarchy</td>\n",
       "      <td>0</td>\n",
       "      <td>0</td>\n",
       "      <td>Bold Cesare Botta</td>\n",
       "      <td>44</td>\n",
       "      <td>49</td>\n",
       "      <td>15.208116</td>\n",
       "    </tr>\n",
       "    <tr>\n",
       "      <th>3178</th>\n",
       "      <td>E48A900A95C8E0A3DB31DA9FBAD6866E</td>\n",
       "      <td>Alex Evenings</td>\n",
       "      <td>0</td>\n",
       "      <td>1</td>\n",
       "      <td>Plus Imelda Barcaccia</td>\n",
       "      <td>39</td>\n",
       "      <td>49</td>\n",
       "      <td>46.415357</td>\n",
       "    </tr>\n",
       "    <tr>\n",
       "      <th>12124</th>\n",
       "      <td>6B59F92676FD007E9CC45D7F3FDD51F4</td>\n",
       "      <td>MontBell</td>\n",
       "      <td>1</td>\n",
       "      <td>0</td>\n",
       "      <td>MontBell Sig. Agnolo Storladi</td>\n",
       "      <td>44</td>\n",
       "      <td>49</td>\n",
       "      <td>82.744200</td>\n",
       "    </tr>\n",
       "    <tr>\n",
       "      <th>3347</th>\n",
       "      <td>0987B8B338D6C90BBEDD8631BC499221</td>\n",
       "      <td>2b by bebe</td>\n",
       "      <td>2</td>\n",
       "      <td>1</td>\n",
       "      <td>2B Dott. Filippo Querini</td>\n",
       "      <td>45</td>\n",
       "      <td>49</td>\n",
       "      <td>15.877785</td>\n",
       "    </tr>\n",
       "  </tbody>\n",
       "</table>\n",
       "<p>22575 rows × 8 columns</p>\n",
       "</div>"
      ],
      "text/plain": [
       "                                   Item            Brand Usage  Gender  \\\n",
       "20696  AD7F941F991AD6CCD8D433FED457FB63            Abini     1       0   \n",
       "19351  BCEA8E33F6A05964BDF4AC26C1AA89CF          SockGuy     0       0   \n",
       "21715  0D81F8D2278A750F06F9FD48FE57CEF0       John Henry     3       0   \n",
       "21702  BA29C0A9D05316B187201C304B20120D        J.C. Rags     2       0   \n",
       "19353  65B5FC46FC82087BA24609B14F2DC4FF          SockGuy     3       0   \n",
       "...                                 ...              ...   ...     ...   \n",
       "7798   EC4DE54F2F3AFA14175E5EABFC16CE1F          VIVILLI     0       1   \n",
       "24613  AEB66737D37CAC958FE772E12C5C16DD  Sons Of Anarchy     0       0   \n",
       "3178   E48A900A95C8E0A3DB31DA9FBAD6866E    Alex Evenings     0       1   \n",
       "12124  6B59F92676FD007E9CC45D7F3FDD51F4         MontBell     1       0   \n",
       "3347   0987B8B338D6C90BBEDD8631BC499221       2b by bebe     2       1   \n",
       "\n",
       "                                Model  Size  Sale_Until      Prize  \n",
       "20696          Men's Durante Bellucci    38           0  29.357639  \n",
       "19351  SockGuy Imelda Bossi-Nicolucci    41           0   5.314680  \n",
       "21715             John Eugenia Borgia    38           0  13.740000  \n",
       "21702                 J.C. Milo Vento    41           0  87.674400  \n",
       "19353        SockGuy Giulia Gilardoni    43           0   5.193900  \n",
       "...                               ...   ...         ...        ...  \n",
       "7798   VIVILLI Lina Chittolini-Ginese    37          49  14.704800  \n",
       "24613               Bold Cesare Botta    44          49  15.208116  \n",
       "3178            Plus Imelda Barcaccia    39          49  46.415357  \n",
       "12124   MontBell Sig. Agnolo Storladi    44          49  82.744200  \n",
       "3347         2B Dott. Filippo Querini    45          49  15.877785  \n",
       "\n",
       "[22575 rows x 8 columns]"
      ]
     },
     "execution_count": 226,
     "metadata": {},
     "output_type": "execute_result"
    }
   ],
   "source": [
    "df_train"
   ]
  },
  {
   "cell_type": "code",
   "execution_count": 227,
   "id": "7ee0c1c7",
   "metadata": {
    "scrolled": false
   },
   "outputs": [
    {
     "data": {
      "text/plain": [
       "149"
      ]
     },
     "execution_count": 227,
     "metadata": {},
     "output_type": "execute_result"
    }
   ],
   "source": [
    "len(list(dict(df_train['Brand'].value_counts().loc[lambda x : x>30]).keys()))"
   ]
  },
  {
   "cell_type": "code",
   "execution_count": 228,
   "id": "e5858f76",
   "metadata": {},
   "outputs": [],
   "source": [
    "result = dict()\n",
    "for i in list(dict(df_train['Brand'].value_counts().loc[lambda x : x>30]).keys()):\n",
    "    result[i]=df_train[df_train['Brand']==i]"
   ]
  },
  {
   "cell_type": "code",
   "execution_count": 229,
   "id": "854af2bc",
   "metadata": {},
   "outputs": [],
   "source": [
    "def from_dict_value_to_df(d):\n",
    "    \"\"\"\n",
    "    input = dictionary\n",
    "    output = dataframe as part of all the values from the dictionary\n",
    "    \"\"\"\n",
    "    df = pd.DataFrame()\n",
    "    for v in d.values():\n",
    "        df = df.append(v)\n",
    "    return df"
   ]
  },
  {
   "cell_type": "code",
   "execution_count": 230,
   "id": "e865be8c",
   "metadata": {},
   "outputs": [],
   "source": [
    "df_brands=from_dict_value_to_df(result)"
   ]
  },
  {
   "cell_type": "code",
   "execution_count": 231,
   "id": "4eea8845",
   "metadata": {
    "scrolled": true
   },
   "outputs": [
    {
     "data": {
      "text/plain": [
       "2905            allegra k\n",
       "9893            allegra k\n",
       "2927            allegra k\n",
       "2944            allegra k\n",
       "2962            allegra k\n",
       "               ...       \n",
       "20515    king formal wear\n",
       "20458    king formal wear\n",
       "81       king formal wear\n",
       "20448    king formal wear\n",
       "20438    king formal wear\n",
       "Name: Brand, Length: 12082, dtype: object"
      ]
     },
     "execution_count": 231,
     "metadata": {},
     "output_type": "execute_result"
    }
   ],
   "source": [
    "df_brands['Brand'].str.lower()"
   ]
  },
  {
   "cell_type": "code",
   "execution_count": null,
   "id": "507ae572",
   "metadata": {},
   "outputs": [],
   "source": []
  },
  {
   "cell_type": "code",
   "execution_count": 232,
   "id": "72d7a752",
   "metadata": {},
   "outputs": [],
   "source": [
    "brands_zip = zip(tuple(list(df_brands['Brand'].unique())),tuple(range(len(list(df_brands['Brand'].unique())))))"
   ]
  },
  {
   "cell_type": "code",
   "execution_count": 233,
   "id": "c73b36c6",
   "metadata": {},
   "outputs": [],
   "source": [
    "df_brands['Brand'].replace(list(df_brands['Brand'].unique()),\n",
    "                        range(len(list(df_brands['Brand'].unique()))), inplace=True)"
   ]
  },
  {
   "cell_type": "code",
   "execution_count": 234,
   "id": "e026eb90",
   "metadata": {},
   "outputs": [],
   "source": [
    "df_num=df_brands.drop(['Item', 'Model'], axis=1)"
   ]
  },
  {
   "cell_type": "code",
   "execution_count": 235,
   "id": "9d67e9e7",
   "metadata": {},
   "outputs": [],
   "source": [
    "mask = pd.to_numeric(df_num['Usage'], errors='coerce').isna()"
   ]
  },
  {
   "cell_type": "code",
   "execution_count": 236,
   "id": "355f795b",
   "metadata": {},
   "outputs": [],
   "source": [
    "import copy\n",
    "\n",
    "brands_zip2 = copy.deepcopy(brands_zip)"
   ]
  },
  {
   "cell_type": "code",
   "execution_count": 237,
   "id": "6aaaea9c",
   "metadata": {
    "scrolled": true
   },
   "outputs": [
    {
     "data": {
      "text/plain": [
       "{'Men': 0, 'Women': 1}"
      ]
     },
     "execution_count": 237,
     "metadata": {},
     "output_type": "execute_result"
    }
   ],
   "source": [
    "dict(gender_zip)"
   ]
  },
  {
   "cell_type": "code",
   "execution_count": 238,
   "id": "a0e9f4f5",
   "metadata": {},
   "outputs": [],
   "source": [
    "d_usage=dict(Usage_zip)"
   ]
  },
  {
   "cell_type": "code",
   "execution_count": 239,
   "id": "983ed1b6",
   "metadata": {},
   "outputs": [
    {
     "data": {
      "text/plain": [
       "{'New': 0, 'Almost New': 1, 'Used': 2, 'Very Used': 3}"
      ]
     },
     "execution_count": 239,
     "metadata": {},
     "output_type": "execute_result"
    }
   ],
   "source": [
    "d_usage"
   ]
  },
  {
   "cell_type": "code",
   "execution_count": 240,
   "id": "730db687",
   "metadata": {},
   "outputs": [],
   "source": [
    "d_brands=dict(brands_zip)"
   ]
  },
  {
   "cell_type": "code",
   "execution_count": 243,
   "id": "72098aca",
   "metadata": {},
   "outputs": [],
   "source": [
    "inv_map = {v: k for k, v in d_brands.items()}"
   ]
  },
  {
   "cell_type": "code",
   "execution_count": 244,
   "id": "ef3c8d2c",
   "metadata": {},
   "outputs": [
    {
     "data": {
      "text/plain": [
       "{0: 'Allegra K',\n",
       " 1: 'Calvin Klein',\n",
       " 2: 'Carhartt',\n",
       " 3: 'Volcom',\n",
       " 4: 'Tommy Hilfiger',\n",
       " 5: 'Quiksilver',\n",
       " 6: 'Hanes',\n",
       " 7: 'Nautica',\n",
       " 8: 'Hurley',\n",
       " 9: 'Columbia',\n",
       " 10: \"Levi's\",\n",
       " 11: 'Dockers',\n",
       " 12: 'Diesel',\n",
       " 13: 'Wrangler',\n",
       " 14: 'Speedo',\n",
       " 15: '7 For All Mankind',\n",
       " 16: 'Dickies',\n",
       " 17: 'American Apparel',\n",
       " 18: 'Champion',\n",
       " 19: \"O'Neill\",\n",
       " 20: 'Lucky Brand',\n",
       " 21: 'FineBrandShop',\n",
       " 22: 'SmartWool',\n",
       " 23: 'HUGO BOSS',\n",
       " 24: 'Motherhood Maternity',\n",
       " 25: 'Ralph Lauren',\n",
       " 26: 'Fox',\n",
       " 27: 'DC',\n",
       " 28: 'Oakley',\n",
       " 29: 'Ray-Ban',\n",
       " 30: 'Jones New York',\n",
       " 31: 'Anne Klein',\n",
       " 32: 'Calvin Klein Jeans',\n",
       " 33: 'Orvis',\n",
       " 34: 'Roxy',\n",
       " 35: 'adidas',\n",
       " 36: 'Kenneth Cole',\n",
       " 37: 'Jockey',\n",
       " 38: 'Lee',\n",
       " 39: 'Fruit of the Loom',\n",
       " 40: \"Joe's Jeans\",\n",
       " 41: 'Haggar',\n",
       " 42: 'True Religion',\n",
       " 43: 'Port Authority',\n",
       " 44: 'HUE',\n",
       " 45: 'Patty',\n",
       " 46: 'Anna-Kaci',\n",
       " 47: 'Nike',\n",
       " 48: 'IZOD',\n",
       " 49: \"Not Your Daughter's Jeans\",\n",
       " 50: 'Hot from Hollywood',\n",
       " 51: 'Bali',\n",
       " 52: 'Hot Topic',\n",
       " 53: 'Perry Ellis',\n",
       " 54: 'Pendleton',\n",
       " 55: 'Ed Hardy',\n",
       " 56: 'Tommy Bahama',\n",
       " 57: 'Duofold',\n",
       " 58: 'Thorlo',\n",
       " 59: 'SK Hat shop',\n",
       " 60: 'Maidenform',\n",
       " 61: 'Laura',\n",
       " 62: 'Polo Ralph Lauren',\n",
       " 63: 'RVCA',\n",
       " 64: 'Gold Toe',\n",
       " 65: 'Billabong',\n",
       " 66: 'Woolrich',\n",
       " 67: 'Geoffrey Beene',\n",
       " 68: 'eVogues Apparel',\n",
       " 69: 'Burnside',\n",
       " 70: 'Ed Garments',\n",
       " 71: 'A:X Armani Exchange',\n",
       " 72: 'G-Star',\n",
       " 73: 'Paul Fredrick',\n",
       " 74: 'Original Penguin',\n",
       " 75: 'Woman Within',\n",
       " 76: 'Mountain Hardwear',\n",
       " 77: 'Majestic International',\n",
       " 78: 'Van Heusen',\n",
       " 79: '2(x)ist',\n",
       " 80: 'Harley-Davidson',\n",
       " 81: 'SEX NIGHT',\n",
       " 82: 'Icebreaker',\n",
       " 83: 'Eddie Bauer',\n",
       " 84: 'Bella',\n",
       " 85: 'Wigwam',\n",
       " 86: 'Vanity Fair',\n",
       " 87: 'Sutton Studio',\n",
       " 88: 'Tri-Mountain',\n",
       " 89: '2b by bebe',\n",
       " 90: 'LRG',\n",
       " 91: 'Wacoal',\n",
       " 92: 'Savane',\n",
       " 93: 'Sock It To Me',\n",
       " 94: 'Alexander Del Rossa',\n",
       " 95: 'French Connection',\n",
       " 96: 'ASICS',\n",
       " 97: 'Samanthas Style Shoppe',\n",
       " 98: 'Southpole',\n",
       " 99: 'Marc Ecko Cut & Sew',\n",
       " 100: 'Michael Kors',\n",
       " 101: 'Luxury Divas',\n",
       " 102: 'boxed-gifts',\n",
       " 103: 'TrendsBlue',\n",
       " 104: \"The Little Alpaca's House\",\n",
       " 105: 'Rip Curl',\n",
       " 106: 'Flexees',\n",
       " 107: 'Silver Jeans',\n",
       " 108: 'Alfred Dunner',\n",
       " 109: 'UNIONBAY',\n",
       " 110: 'ExOfficio',\n",
       " 111: 'Metal Mulisha',\n",
       " 112: 'Intimo',\n",
       " 113: 'Under Armour',\n",
       " 114: 'Underworks',\n",
       " 115: 'Devon & Jones',\n",
       " 116: 'Hanro',\n",
       " 117: 'Life Is Good',\n",
       " 118: 'Betsey Johnson',\n",
       " 119: 'BCBGMAXAZRIA',\n",
       " 120: 'Gary Majdell Sport',\n",
       " 121: 'PUMA',\n",
       " 122: 'G by GUESS',\n",
       " 123: \"Alki'i\",\n",
       " 124: 'Gildan',\n",
       " 125: 'Alternative',\n",
       " 126: 'Bottoms Out',\n",
       " 127: 'Russell Athletic',\n",
       " 128: 'C-IN2',\n",
       " 129: 'Harbor Bay',\n",
       " 130: 'Ilusion',\n",
       " 131: 'Fred Perry',\n",
       " 132: 'U.S. Polo Assn.',\n",
       " 133: 'Kenneth Cole REACTION',\n",
       " 134: 'prAna',\n",
       " 135: 'Hudson',\n",
       " 136: 'LOTUSTRADERS',\n",
       " 137: 'Joseph Abboud',\n",
       " 138: \"Frederick's of Hollywood\",\n",
       " 139: 'K. Bell',\n",
       " 140: 'Retrofit',\n",
       " 141: 'Rock Revival',\n",
       " 142: 'AG Adriano Goldschmied',\n",
       " 143: 'LabelShopper',\n",
       " 144: 'Only Hearts',\n",
       " 145: 'Matix',\n",
       " 146: 'PAIGE',\n",
       " 147: 'London Fog',\n",
       " 148: 'King Formal Wear'}"
      ]
     },
     "execution_count": 244,
     "metadata": {},
     "output_type": "execute_result"
    }
   ],
   "source": [
    "inv_map"
   ]
  },
  {
   "cell_type": "code",
   "execution_count": 52,
   "id": "007a0669",
   "metadata": {},
   "outputs": [],
   "source": [
    "# import pickle\n",
    "\n",
    "# import numpy as np\n",
    "# import pandas as pd\n",
    "# from sklearn.model_selection import KFold\n",
    "# from xgboost import XGBRegressor"
   ]
  },
  {
   "cell_type": "code",
   "execution_count": 53,
   "id": "c7063439",
   "metadata": {},
   "outputs": [],
   "source": [
    "# Y = df_train['Prize']  # dependent variable\n",
    "# X = df_train[['Item', 'Brand', 'Usage', 'Model', 'Size', 'Sale_Until']]  # independent variable"
   ]
  },
  {
   "cell_type": "code",
   "execution_count": 54,
   "id": "7772af02",
   "metadata": {},
   "outputs": [],
   "source": [
    "# from pandas import DataFrame\n",
    "# import matplotlib.pyplot as plt\n",
    "# from sklearn.cluster import KMeans\n",
    "# import seaborn as sns\n",
    "\n",
    "# sns.set(style='whitegrid', rc={'figure.figsize':(11.7,8.27)})\n",
    "# sns.set_context('poster')"
   ]
  },
  {
   "cell_type": "code",
   "execution_count": 55,
   "id": "a687faa1",
   "metadata": {},
   "outputs": [],
   "source": [
    "# kmeans = KMeans(n_clusters=4).fit(df_train[['Prize', 'Sale_Until']])\n",
    "# centroids = kmeans.cluster_centers_\n",
    "# print(centroids)"
   ]
  },
  {
   "cell_type": "code",
   "execution_count": 56,
   "id": "0a0778fb",
   "metadata": {},
   "outputs": [],
   "source": [
    "# plt.scatter(df_train['Sale_Until'], df_train['Prize'], c= kmeans.labels_.astype(float), s=50, alpha=0.5)\n",
    "# plt.scatter(centroids[:, 0], centroids[:, 1], c='green', s=50)\n",
    "# plt.show()"
   ]
  },
  {
   "cell_type": "code",
   "execution_count": null,
   "id": "e9c87d29",
   "metadata": {},
   "outputs": [],
   "source": []
  }
 ],
 "metadata": {
  "kernelspec": {
   "display_name": "Python 3 (ipykernel)",
   "language": "python",
   "name": "python3"
  },
  "language_info": {
   "codemirror_mode": {
    "name": "ipython",
    "version": 3
   },
   "file_extension": ".py",
   "mimetype": "text/x-python",
   "name": "python",
   "nbconvert_exporter": "python",
   "pygments_lexer": "ipython3",
   "version": "3.9.2rc1"
  }
 },
 "nbformat": 4,
 "nbformat_minor": 5
}
